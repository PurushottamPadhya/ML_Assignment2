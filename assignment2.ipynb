{
 "cells": [
  {
   "cell_type": "markdown",
   "metadata": {
    "id": "IvYl_OwkluPb"
   },
   "source": [
    "# Assignment 2 Machine Learning\n",
    "Submitted by: \n",
    "Purushottam Padhya (s3847501),  Shitiz Garg (s3791123) "
   ]
  },
  {
   "cell_type": "markdown",
   "metadata": {
    "id": "uoVWLCNjluPe"
   },
   "source": [
    "# Introduction\n",
    "\n",
    "This is an assignment which is based on the data set includes the images of Colon cancer. \n",
    "\n",
    "We have following two goals, \n",
    "\n",
    ">Task 1: One is to classify the given cell image is canceroud cell or not.\n",
    "\n",
    ">Task 2: Second is to classfiy the images accordint to the cell types such as: fibroblast, inflamatory, epithelial or others."
   ]
  },
  {
   "cell_type": "markdown",
   "metadata": {
    "id": "jxlJqkp5luPf"
   },
   "source": [
    "# Load dataset and Preprocess the data"
   ]
  },
  {
   "cell_type": "code",
   "execution_count": 3,
   "metadata": {
    "id": "kBudmS-mluPf"
   },
   "outputs": [],
   "source": [
    "# Import basic python frameworks\n",
    "import pandas as pd\n",
    "import numpy as np\n",
    "import math\n",
    "import matplotlib.pyplot as plt\n",
    "import seaborn as sns\n",
    "import tensorflow as tf\n",
    "from sklearn.model_selection import train_test_split\n",
    "from tensorflow.keras.preprocessing.image import ImageDataGenerator\n",
    "from tensorflow.keras.preprocessing import image\n",
    "import os\n",
    "import cv2\n",
    "from sklearn.metrics import confusion_matrix\n",
    "from sklearn.utils import shuffle                          \n",
    "from keras.models import Sequential\n",
    "from keras.layers import Dense, Dropout, Flatten\n",
    "from keras.layers import Conv2D, MaxPooling2D\n",
    "from PIL import Image\n",
    "import glob"
   ]
  },
  {
   "cell_type": "code",
   "execution_count": 4,
   "metadata": {
    "id": "U102DHTx-Fff"
   },
   "outputs": [],
   "source": [
    "device_name = tf.test.gpu_device_name()\n",
    "if device_name == '/device:GPU:0':\n",
    "  tf.device(device_name)"
   ]
  },
  {
   "cell_type": "markdown",
   "metadata": {},
   "source": [
    "Uncomment the following lines for Google Colab environemnt"
   ]
  },
  {
   "cell_type": "code",
   "execution_count": 5,
   "metadata": {
    "colab": {
     "base_uri": "https://localhost:8080/"
    },
    "id": "CpQe0wG8A--g",
    "outputId": "1dd70c21-b16a-46f0-99ee-a2564fe5256b"
   },
   "outputs": [],
   "source": [
    "#from google.colab import drive\n",
    "#drive.mount('/content/drive')"
   ]
  },
  {
   "cell_type": "code",
   "execution_count": 6,
   "metadata": {
    "id": "e5tzDReaB6PC"
   },
   "outputs": [],
   "source": [
    "#!cp /content/drive/'MyDrive'/ML_Assignment2/data.zip .\n",
    "#!unzip -q -o data.zip"
   ]
  },
  {
   "cell_type": "code",
   "execution_count": 7,
   "metadata": {
    "colab": {
     "base_uri": "https://localhost:8080/"
    },
    "id": "-cjlTOwTP30P",
    "outputId": "102e58bb-5c09-45b6-98df-e047bc694de9"
   },
   "outputs": [],
   "source": [
    "#!ls data"
   ]
  },
  {
   "cell_type": "code",
   "execution_count": 8,
   "metadata": {
    "id": "wI5z-IadluPf"
   },
   "outputs": [],
   "source": [
    "main_data_frame = pd.read_csv('./data/data_labels_mainData.csv')"
   ]
  },
  {
   "cell_type": "code",
   "execution_count": 9,
   "metadata": {
    "colab": {
     "base_uri": "https://localhost:8080/",
     "height": 198
    },
    "id": "yHYTREvrluPf",
    "outputId": "5d1cab1a-05ee-4d05-8350-b55944e02e70"
   },
   "outputs": [
    {
     "data": {
      "text/html": [
       "<div>\n",
       "<style scoped>\n",
       "    .dataframe tbody tr th:only-of-type {\n",
       "        vertical-align: middle;\n",
       "    }\n",
       "\n",
       "    .dataframe tbody tr th {\n",
       "        vertical-align: top;\n",
       "    }\n",
       "\n",
       "    .dataframe thead th {\n",
       "        text-align: right;\n",
       "    }\n",
       "</style>\n",
       "<table border=\"1\" class=\"dataframe\">\n",
       "  <thead>\n",
       "    <tr style=\"text-align: right;\">\n",
       "      <th></th>\n",
       "      <th>InstanceID</th>\n",
       "      <th>patientID</th>\n",
       "      <th>ImageName</th>\n",
       "      <th>cellTypeName</th>\n",
       "      <th>cellType</th>\n",
       "      <th>isCancerous</th>\n",
       "    </tr>\n",
       "  </thead>\n",
       "  <tbody>\n",
       "    <tr>\n",
       "      <th>0</th>\n",
       "      <td>22405</td>\n",
       "      <td>1</td>\n",
       "      <td>22405.png</td>\n",
       "      <td>fibroblast</td>\n",
       "      <td>0</td>\n",
       "      <td>0</td>\n",
       "    </tr>\n",
       "    <tr>\n",
       "      <th>1</th>\n",
       "      <td>22406</td>\n",
       "      <td>1</td>\n",
       "      <td>22406.png</td>\n",
       "      <td>fibroblast</td>\n",
       "      <td>0</td>\n",
       "      <td>0</td>\n",
       "    </tr>\n",
       "    <tr>\n",
       "      <th>2</th>\n",
       "      <td>22407</td>\n",
       "      <td>1</td>\n",
       "      <td>22407.png</td>\n",
       "      <td>fibroblast</td>\n",
       "      <td>0</td>\n",
       "      <td>0</td>\n",
       "    </tr>\n",
       "    <tr>\n",
       "      <th>3</th>\n",
       "      <td>22408</td>\n",
       "      <td>1</td>\n",
       "      <td>22408.png</td>\n",
       "      <td>fibroblast</td>\n",
       "      <td>0</td>\n",
       "      <td>0</td>\n",
       "    </tr>\n",
       "    <tr>\n",
       "      <th>4</th>\n",
       "      <td>22409</td>\n",
       "      <td>1</td>\n",
       "      <td>22409.png</td>\n",
       "      <td>fibroblast</td>\n",
       "      <td>0</td>\n",
       "      <td>0</td>\n",
       "    </tr>\n",
       "  </tbody>\n",
       "</table>\n",
       "</div>"
      ],
      "text/plain": [
       "   InstanceID  patientID  ImageName cellTypeName  cellType  isCancerous\n",
       "0       22405          1  22405.png   fibroblast         0            0\n",
       "1       22406          1  22406.png   fibroblast         0            0\n",
       "2       22407          1  22407.png   fibroblast         0            0\n",
       "3       22408          1  22408.png   fibroblast         0            0\n",
       "4       22409          1  22409.png   fibroblast         0            0"
      ]
     },
     "execution_count": 9,
     "metadata": {},
     "output_type": "execute_result"
    }
   ],
   "source": [
    "main_data_frame.head()"
   ]
  },
  {
   "cell_type": "code",
   "execution_count": 10,
   "metadata": {
    "colab": {
     "base_uri": "https://localhost:8080/"
    },
    "id": "i4svaS8rsSeZ",
    "outputId": "9d3b26e4-1bda-4817-acb5-0775f96c0312"
   },
   "outputs": [
    {
     "data": {
      "text/plain": [
       "(9896, 6)"
      ]
     },
     "execution_count": 10,
     "metadata": {},
     "output_type": "execute_result"
    }
   ],
   "source": [
    "main_data_frame.shape"
   ]
  },
  {
   "cell_type": "code",
   "execution_count": 11,
   "metadata": {
    "colab": {
     "base_uri": "https://localhost:8080/"
    },
    "id": "bV9rBGFyluPg",
    "outputId": "6abc2ce0-da2d-486c-8279-fe41f428b023"
   },
   "outputs": [
    {
     "data": {
      "text/plain": [
       "InstanceID       int64\n",
       "patientID        int64\n",
       "ImageName       object\n",
       "cellTypeName    object\n",
       "cellType         int64\n",
       "isCancerous      int64\n",
       "dtype: object"
      ]
     },
     "execution_count": 11,
     "metadata": {},
     "output_type": "execute_result"
    }
   ],
   "source": [
    "main_data_frame.dtypes"
   ]
  },
  {
   "cell_type": "code",
   "execution_count": 12,
   "metadata": {
    "id": "APVwOno6r3Z3"
   },
   "outputs": [],
   "source": [
    "extra_data_frame = pd.read_csv('./data/data_labels_extraData.csv')"
   ]
  },
  {
   "cell_type": "code",
   "execution_count": 13,
   "metadata": {
    "colab": {
     "base_uri": "https://localhost:8080/",
     "height": 198
    },
    "id": "HCxTb_5AsGlE",
    "outputId": "2bf9052c-7844-4e54-cf1f-3259d0c38a70"
   },
   "outputs": [
    {
     "data": {
      "text/html": [
       "<div>\n",
       "<style scoped>\n",
       "    .dataframe tbody tr th:only-of-type {\n",
       "        vertical-align: middle;\n",
       "    }\n",
       "\n",
       "    .dataframe tbody tr th {\n",
       "        vertical-align: top;\n",
       "    }\n",
       "\n",
       "    .dataframe thead th {\n",
       "        text-align: right;\n",
       "    }\n",
       "</style>\n",
       "<table border=\"1\" class=\"dataframe\">\n",
       "  <thead>\n",
       "    <tr style=\"text-align: right;\">\n",
       "      <th></th>\n",
       "      <th>InstanceID</th>\n",
       "      <th>patientID</th>\n",
       "      <th>ImageName</th>\n",
       "      <th>isCancerous</th>\n",
       "    </tr>\n",
       "  </thead>\n",
       "  <tbody>\n",
       "    <tr>\n",
       "      <th>0</th>\n",
       "      <td>12681</td>\n",
       "      <td>61</td>\n",
       "      <td>12681.png</td>\n",
       "      <td>0</td>\n",
       "    </tr>\n",
       "    <tr>\n",
       "      <th>1</th>\n",
       "      <td>12682</td>\n",
       "      <td>61</td>\n",
       "      <td>12682.png</td>\n",
       "      <td>0</td>\n",
       "    </tr>\n",
       "    <tr>\n",
       "      <th>2</th>\n",
       "      <td>12683</td>\n",
       "      <td>61</td>\n",
       "      <td>12683.png</td>\n",
       "      <td>0</td>\n",
       "    </tr>\n",
       "    <tr>\n",
       "      <th>3</th>\n",
       "      <td>12684</td>\n",
       "      <td>61</td>\n",
       "      <td>12684.png</td>\n",
       "      <td>0</td>\n",
       "    </tr>\n",
       "    <tr>\n",
       "      <th>4</th>\n",
       "      <td>12685</td>\n",
       "      <td>61</td>\n",
       "      <td>12685.png</td>\n",
       "      <td>0</td>\n",
       "    </tr>\n",
       "  </tbody>\n",
       "</table>\n",
       "</div>"
      ],
      "text/plain": [
       "   InstanceID  patientID  ImageName  isCancerous\n",
       "0       12681         61  12681.png            0\n",
       "1       12682         61  12682.png            0\n",
       "2       12683         61  12683.png            0\n",
       "3       12684         61  12684.png            0\n",
       "4       12685         61  12685.png            0"
      ]
     },
     "execution_count": 13,
     "metadata": {},
     "output_type": "execute_result"
    }
   ],
   "source": [
    "extra_data_frame.head()"
   ]
  },
  {
   "cell_type": "code",
   "execution_count": 14,
   "metadata": {
    "colab": {
     "base_uri": "https://localhost:8080/"
    },
    "id": "WoSVhKmysGn_",
    "outputId": "ad0ebee0-395b-4a26-bc4e-866459414b58"
   },
   "outputs": [
    {
     "data": {
      "text/plain": [
       "(10384, 4)"
      ]
     },
     "execution_count": 14,
     "metadata": {},
     "output_type": "execute_result"
    }
   ],
   "source": [
    "extra_data_frame.shape"
   ]
  },
  {
   "cell_type": "markdown",
   "metadata": {
    "id": "_REAmPUjluPg"
   },
   "source": [
    "# Exploratory data analysis (EDA)\n",
    "\n",
    "This is a first steps of Machine learning process before selecting any model for prediction. EDA refers the mojor critical process of Machine learning so it would optimize the given set by extracting important information, removing outliers, removing underlying assumption for test and determine the  optimal factor of settings and helps to choose the best model to predict the value with the help of different graphical visualization. \n",
    "\n",
    "Finding different statistical values and plotting those values on the graphical form will shows how data is distributed using mean, median and standard deviation of the datasets.\n",
    "The state of the plot can help to maximize the pattern recognization of the data sets.\n",
    "> EDA provide the distribution of data set help to familarise with the different attributes"
   ]
  },
  {
   "cell_type": "code",
   "execution_count": 15,
   "metadata": {
    "colab": {
     "base_uri": "https://localhost:8080/"
    },
    "id": "kaTmLnG1luPg",
    "outputId": "475e3276-7e60-4d26-aa62-c6f32f02c6c5"
   },
   "outputs": [
    {
     "name": "stdout",
     "output_type": "stream",
     "text": [
      "<class 'pandas.core.frame.DataFrame'>\n",
      "RangeIndex: 9896 entries, 0 to 9895\n",
      "Data columns (total 6 columns):\n",
      " #   Column        Non-Null Count  Dtype \n",
      "---  ------        --------------  ----- \n",
      " 0   InstanceID    9896 non-null   int64 \n",
      " 1   patientID     9896 non-null   int64 \n",
      " 2   ImageName     9896 non-null   object\n",
      " 3   cellTypeName  9896 non-null   object\n",
      " 4   cellType      9896 non-null   int64 \n",
      " 5   isCancerous   9896 non-null   int64 \n",
      "dtypes: int64(4), object(2)\n",
      "memory usage: 464.0+ KB\n"
     ]
    }
   ],
   "source": [
    "main_data_frame.info()"
   ]
  },
  {
   "cell_type": "markdown",
   "metadata": {
    "id": "fyyQHMD3luPg"
   },
   "source": [
    ">This info shows that there are no null datas in the given sets, also describe the data types of each attributes."
   ]
  },
  {
   "cell_type": "code",
   "execution_count": 16,
   "metadata": {
    "colab": {
     "base_uri": "https://localhost:8080/",
     "height": 288
    },
    "id": "JDcFj7syluPg",
    "outputId": "fb8ce7dd-7d11-4f72-8f15-7615c6d93d4c"
   },
   "outputs": [
    {
     "data": {
      "text/html": [
       "<div>\n",
       "<style scoped>\n",
       "    .dataframe tbody tr th:only-of-type {\n",
       "        vertical-align: middle;\n",
       "    }\n",
       "\n",
       "    .dataframe tbody tr th {\n",
       "        vertical-align: top;\n",
       "    }\n",
       "\n",
       "    .dataframe thead th {\n",
       "        text-align: right;\n",
       "    }\n",
       "</style>\n",
       "<table border=\"1\" class=\"dataframe\">\n",
       "  <thead>\n",
       "    <tr style=\"text-align: right;\">\n",
       "      <th></th>\n",
       "      <th>InstanceID</th>\n",
       "      <th>patientID</th>\n",
       "      <th>cellType</th>\n",
       "      <th>isCancerous</th>\n",
       "    </tr>\n",
       "  </thead>\n",
       "  <tbody>\n",
       "    <tr>\n",
       "      <th>count</th>\n",
       "      <td>9896.000000</td>\n",
       "      <td>9896.000000</td>\n",
       "      <td>9896.000000</td>\n",
       "      <td>9896.000000</td>\n",
       "    </tr>\n",
       "    <tr>\n",
       "      <th>mean</th>\n",
       "      <td>10193.880154</td>\n",
       "      <td>29.762025</td>\n",
       "      <td>1.501516</td>\n",
       "      <td>0.412187</td>\n",
       "    </tr>\n",
       "    <tr>\n",
       "      <th>std</th>\n",
       "      <td>6652.912660</td>\n",
       "      <td>17.486553</td>\n",
       "      <td>0.954867</td>\n",
       "      <td>0.492253</td>\n",
       "    </tr>\n",
       "    <tr>\n",
       "      <th>min</th>\n",
       "      <td>1.000000</td>\n",
       "      <td>1.000000</td>\n",
       "      <td>0.000000</td>\n",
       "      <td>0.000000</td>\n",
       "    </tr>\n",
       "    <tr>\n",
       "      <th>25%</th>\n",
       "      <td>4135.750000</td>\n",
       "      <td>14.000000</td>\n",
       "      <td>1.000000</td>\n",
       "      <td>0.000000</td>\n",
       "    </tr>\n",
       "    <tr>\n",
       "      <th>50%</th>\n",
       "      <td>9279.500000</td>\n",
       "      <td>26.000000</td>\n",
       "      <td>2.000000</td>\n",
       "      <td>0.000000</td>\n",
       "    </tr>\n",
       "    <tr>\n",
       "      <th>75%</th>\n",
       "      <td>16821.250000</td>\n",
       "      <td>47.000000</td>\n",
       "      <td>2.000000</td>\n",
       "      <td>1.000000</td>\n",
       "    </tr>\n",
       "    <tr>\n",
       "      <th>max</th>\n",
       "      <td>22444.000000</td>\n",
       "      <td>60.000000</td>\n",
       "      <td>3.000000</td>\n",
       "      <td>1.000000</td>\n",
       "    </tr>\n",
       "  </tbody>\n",
       "</table>\n",
       "</div>"
      ],
      "text/plain": [
       "         InstanceID    patientID     cellType  isCancerous\n",
       "count   9896.000000  9896.000000  9896.000000  9896.000000\n",
       "mean   10193.880154    29.762025     1.501516     0.412187\n",
       "std     6652.912660    17.486553     0.954867     0.492253\n",
       "min        1.000000     1.000000     0.000000     0.000000\n",
       "25%     4135.750000    14.000000     1.000000     0.000000\n",
       "50%     9279.500000    26.000000     2.000000     0.000000\n",
       "75%    16821.250000    47.000000     2.000000     1.000000\n",
       "max    22444.000000    60.000000     3.000000     1.000000"
      ]
     },
     "execution_count": 16,
     "metadata": {},
     "output_type": "execute_result"
    }
   ],
   "source": [
    "main_data_frame.describe()"
   ]
  },
  {
   "cell_type": "code",
   "execution_count": 17,
   "metadata": {
    "colab": {
     "base_uri": "https://localhost:8080/"
    },
    "id": "SO5nG_uFluPh",
    "outputId": "9439a652-bbee-404b-a211-b0e048b746a4"
   },
   "outputs": [
    {
     "data": {
      "text/plain": [
       "epithelial      4079\n",
       "inflammatory    2543\n",
       "fibroblast      1888\n",
       "others          1386\n",
       "Name: cellTypeName, dtype: int64"
      ]
     },
     "execution_count": 17,
     "metadata": {},
     "output_type": "execute_result"
    }
   ],
   "source": [
    "main_data_frame['cellTypeName'].value_counts()"
   ]
  },
  {
   "cell_type": "code",
   "execution_count": 18,
   "metadata": {
    "colab": {
     "base_uri": "https://localhost:8080/"
    },
    "id": "7qKC5CUyluPh",
    "outputId": "bfecfe7a-e44c-4fe6-b5bf-94ad82f229a7"
   },
   "outputs": [
    {
     "data": {
      "text/plain": [
       "2    4079\n",
       "1    2543\n",
       "0    1888\n",
       "3    1386\n",
       "Name: cellType, dtype: int64"
      ]
     },
     "execution_count": 18,
     "metadata": {},
     "output_type": "execute_result"
    }
   ],
   "source": [
    "main_data_frame['cellType'].value_counts()"
   ]
  },
  {
   "cell_type": "markdown",
   "metadata": {
    "id": "IMENg8AVluPh"
   },
   "source": [
    "> This shows that the equivalent value of the cell type  with cell names are as ,<br> \n",
    "   > 0 = fibroblast</br>\n",
    "   > 1 =  inflamatory</br>\n",
    "   > 2 = epithelial</br> \n",
    "   > 3 = others</br>"
   ]
  },
  {
   "cell_type": "code",
   "execution_count": 19,
   "metadata": {
    "colab": {
     "base_uri": "https://localhost:8080/"
    },
    "id": "vdm8bd6dluPh",
    "outputId": "ccf65c90-8243-4beb-817d-7d25fa6c090d"
   },
   "outputs": [
    {
     "data": {
      "text/plain": [
       "0    5817\n",
       "1    4079\n",
       "Name: isCancerous, dtype: int64"
      ]
     },
     "execution_count": 19,
     "metadata": {},
     "output_type": "execute_result"
    }
   ],
   "source": [
    "main_data_frame['isCancerous'].value_counts()"
   ]
  },
  {
   "cell_type": "code",
   "execution_count": 20,
   "metadata": {
    "colab": {
     "base_uri": "https://localhost:8080/",
     "height": 1000
    },
    "id": "gxXyEv3AluPh",
    "outputId": "91f42453-231d-4cf2-cba7-3db849ec2816"
   },
   "outputs": [
    {
     "data": {
      "text/html": [
       "<div>\n",
       "<style scoped>\n",
       "    .dataframe tbody tr th:only-of-type {\n",
       "        vertical-align: middle;\n",
       "    }\n",
       "\n",
       "    .dataframe tbody tr th {\n",
       "        vertical-align: top;\n",
       "    }\n",
       "\n",
       "    .dataframe thead th {\n",
       "        text-align: right;\n",
       "    }\n",
       "</style>\n",
       "<table border=\"1\" class=\"dataframe\">\n",
       "  <thead>\n",
       "    <tr style=\"text-align: right;\">\n",
       "      <th></th>\n",
       "      <th>InstanceID</th>\n",
       "      <th>ImageName</th>\n",
       "      <th>cellTypeName</th>\n",
       "      <th>cellType</th>\n",
       "      <th>isCancerous</th>\n",
       "    </tr>\n",
       "    <tr>\n",
       "      <th>patientID</th>\n",
       "      <th></th>\n",
       "      <th></th>\n",
       "      <th></th>\n",
       "      <th></th>\n",
       "      <th></th>\n",
       "    </tr>\n",
       "  </thead>\n",
       "  <tbody>\n",
       "    <tr>\n",
       "      <th>1</th>\n",
       "      <td>19</td>\n",
       "      <td>19</td>\n",
       "      <td>19</td>\n",
       "      <td>19</td>\n",
       "      <td>19</td>\n",
       "    </tr>\n",
       "    <tr>\n",
       "      <th>2</th>\n",
       "      <td>33</td>\n",
       "      <td>33</td>\n",
       "      <td>33</td>\n",
       "      <td>33</td>\n",
       "      <td>33</td>\n",
       "    </tr>\n",
       "    <tr>\n",
       "      <th>3</th>\n",
       "      <td>136</td>\n",
       "      <td>136</td>\n",
       "      <td>136</td>\n",
       "      <td>136</td>\n",
       "      <td>136</td>\n",
       "    </tr>\n",
       "    <tr>\n",
       "      <th>4</th>\n",
       "      <td>127</td>\n",
       "      <td>127</td>\n",
       "      <td>127</td>\n",
       "      <td>127</td>\n",
       "      <td>127</td>\n",
       "    </tr>\n",
       "    <tr>\n",
       "      <th>5</th>\n",
       "      <td>169</td>\n",
       "      <td>169</td>\n",
       "      <td>169</td>\n",
       "      <td>169</td>\n",
       "      <td>169</td>\n",
       "    </tr>\n",
       "    <tr>\n",
       "      <th>6</th>\n",
       "      <td>198</td>\n",
       "      <td>198</td>\n",
       "      <td>198</td>\n",
       "      <td>198</td>\n",
       "      <td>198</td>\n",
       "    </tr>\n",
       "    <tr>\n",
       "      <th>7</th>\n",
       "      <td>253</td>\n",
       "      <td>253</td>\n",
       "      <td>253</td>\n",
       "      <td>253</td>\n",
       "      <td>253</td>\n",
       "    </tr>\n",
       "    <tr>\n",
       "      <th>8</th>\n",
       "      <td>332</td>\n",
       "      <td>332</td>\n",
       "      <td>332</td>\n",
       "      <td>332</td>\n",
       "      <td>332</td>\n",
       "    </tr>\n",
       "    <tr>\n",
       "      <th>9</th>\n",
       "      <td>348</td>\n",
       "      <td>348</td>\n",
       "      <td>348</td>\n",
       "      <td>348</td>\n",
       "      <td>348</td>\n",
       "    </tr>\n",
       "    <tr>\n",
       "      <th>10</th>\n",
       "      <td>302</td>\n",
       "      <td>302</td>\n",
       "      <td>302</td>\n",
       "      <td>302</td>\n",
       "      <td>302</td>\n",
       "    </tr>\n",
       "    <tr>\n",
       "      <th>11</th>\n",
       "      <td>56</td>\n",
       "      <td>56</td>\n",
       "      <td>56</td>\n",
       "      <td>56</td>\n",
       "      <td>56</td>\n",
       "    </tr>\n",
       "    <tr>\n",
       "      <th>12</th>\n",
       "      <td>130</td>\n",
       "      <td>130</td>\n",
       "      <td>130</td>\n",
       "      <td>130</td>\n",
       "      <td>130</td>\n",
       "    </tr>\n",
       "    <tr>\n",
       "      <th>13</th>\n",
       "      <td>180</td>\n",
       "      <td>180</td>\n",
       "      <td>180</td>\n",
       "      <td>180</td>\n",
       "      <td>180</td>\n",
       "    </tr>\n",
       "    <tr>\n",
       "      <th>14</th>\n",
       "      <td>207</td>\n",
       "      <td>207</td>\n",
       "      <td>207</td>\n",
       "      <td>207</td>\n",
       "      <td>207</td>\n",
       "    </tr>\n",
       "    <tr>\n",
       "      <th>15</th>\n",
       "      <td>125</td>\n",
       "      <td>125</td>\n",
       "      <td>125</td>\n",
       "      <td>125</td>\n",
       "      <td>125</td>\n",
       "    </tr>\n",
       "    <tr>\n",
       "      <th>16</th>\n",
       "      <td>111</td>\n",
       "      <td>111</td>\n",
       "      <td>111</td>\n",
       "      <td>111</td>\n",
       "      <td>111</td>\n",
       "    </tr>\n",
       "    <tr>\n",
       "      <th>17</th>\n",
       "      <td>310</td>\n",
       "      <td>310</td>\n",
       "      <td>310</td>\n",
       "      <td>310</td>\n",
       "      <td>310</td>\n",
       "    </tr>\n",
       "    <tr>\n",
       "      <th>18</th>\n",
       "      <td>320</td>\n",
       "      <td>320</td>\n",
       "      <td>320</td>\n",
       "      <td>320</td>\n",
       "      <td>320</td>\n",
       "    </tr>\n",
       "    <tr>\n",
       "      <th>19</th>\n",
       "      <td>158</td>\n",
       "      <td>158</td>\n",
       "      <td>158</td>\n",
       "      <td>158</td>\n",
       "      <td>158</td>\n",
       "    </tr>\n",
       "    <tr>\n",
       "      <th>20</th>\n",
       "      <td>325</td>\n",
       "      <td>325</td>\n",
       "      <td>325</td>\n",
       "      <td>325</td>\n",
       "      <td>325</td>\n",
       "    </tr>\n",
       "    <tr>\n",
       "      <th>21</th>\n",
       "      <td>224</td>\n",
       "      <td>224</td>\n",
       "      <td>224</td>\n",
       "      <td>224</td>\n",
       "      <td>224</td>\n",
       "    </tr>\n",
       "    <tr>\n",
       "      <th>22</th>\n",
       "      <td>152</td>\n",
       "      <td>152</td>\n",
       "      <td>152</td>\n",
       "      <td>152</td>\n",
       "      <td>152</td>\n",
       "    </tr>\n",
       "    <tr>\n",
       "      <th>23</th>\n",
       "      <td>254</td>\n",
       "      <td>254</td>\n",
       "      <td>254</td>\n",
       "      <td>254</td>\n",
       "      <td>254</td>\n",
       "    </tr>\n",
       "    <tr>\n",
       "      <th>24</th>\n",
       "      <td>192</td>\n",
       "      <td>192</td>\n",
       "      <td>192</td>\n",
       "      <td>192</td>\n",
       "      <td>192</td>\n",
       "    </tr>\n",
       "    <tr>\n",
       "      <th>25</th>\n",
       "      <td>180</td>\n",
       "      <td>180</td>\n",
       "      <td>180</td>\n",
       "      <td>180</td>\n",
       "      <td>180</td>\n",
       "    </tr>\n",
       "    <tr>\n",
       "      <th>26</th>\n",
       "      <td>157</td>\n",
       "      <td>157</td>\n",
       "      <td>157</td>\n",
       "      <td>157</td>\n",
       "      <td>157</td>\n",
       "    </tr>\n",
       "    <tr>\n",
       "      <th>27</th>\n",
       "      <td>17</td>\n",
       "      <td>17</td>\n",
       "      <td>17</td>\n",
       "      <td>17</td>\n",
       "      <td>17</td>\n",
       "    </tr>\n",
       "    <tr>\n",
       "      <th>28</th>\n",
       "      <td>15</td>\n",
       "      <td>15</td>\n",
       "      <td>15</td>\n",
       "      <td>15</td>\n",
       "      <td>15</td>\n",
       "    </tr>\n",
       "    <tr>\n",
       "      <th>29</th>\n",
       "      <td>355</td>\n",
       "      <td>355</td>\n",
       "      <td>355</td>\n",
       "      <td>355</td>\n",
       "      <td>355</td>\n",
       "    </tr>\n",
       "    <tr>\n",
       "      <th>30</th>\n",
       "      <td>110</td>\n",
       "      <td>110</td>\n",
       "      <td>110</td>\n",
       "      <td>110</td>\n",
       "      <td>110</td>\n",
       "    </tr>\n",
       "    <tr>\n",
       "      <th>31</th>\n",
       "      <td>137</td>\n",
       "      <td>137</td>\n",
       "      <td>137</td>\n",
       "      <td>137</td>\n",
       "      <td>137</td>\n",
       "    </tr>\n",
       "    <tr>\n",
       "      <th>32</th>\n",
       "      <td>99</td>\n",
       "      <td>99</td>\n",
       "      <td>99</td>\n",
       "      <td>99</td>\n",
       "      <td>99</td>\n",
       "    </tr>\n",
       "    <tr>\n",
       "      <th>33</th>\n",
       "      <td>163</td>\n",
       "      <td>163</td>\n",
       "      <td>163</td>\n",
       "      <td>163</td>\n",
       "      <td>163</td>\n",
       "    </tr>\n",
       "    <tr>\n",
       "      <th>34</th>\n",
       "      <td>14</td>\n",
       "      <td>14</td>\n",
       "      <td>14</td>\n",
       "      <td>14</td>\n",
       "      <td>14</td>\n",
       "    </tr>\n",
       "    <tr>\n",
       "      <th>35</th>\n",
       "      <td>11</td>\n",
       "      <td>11</td>\n",
       "      <td>11</td>\n",
       "      <td>11</td>\n",
       "      <td>11</td>\n",
       "    </tr>\n",
       "    <tr>\n",
       "      <th>36</th>\n",
       "      <td>128</td>\n",
       "      <td>128</td>\n",
       "      <td>128</td>\n",
       "      <td>128</td>\n",
       "      <td>128</td>\n",
       "    </tr>\n",
       "    <tr>\n",
       "      <th>37</th>\n",
       "      <td>71</td>\n",
       "      <td>71</td>\n",
       "      <td>71</td>\n",
       "      <td>71</td>\n",
       "      <td>71</td>\n",
       "    </tr>\n",
       "    <tr>\n",
       "      <th>38</th>\n",
       "      <td>84</td>\n",
       "      <td>84</td>\n",
       "      <td>84</td>\n",
       "      <td>84</td>\n",
       "      <td>84</td>\n",
       "    </tr>\n",
       "    <tr>\n",
       "      <th>39</th>\n",
       "      <td>105</td>\n",
       "      <td>105</td>\n",
       "      <td>105</td>\n",
       "      <td>105</td>\n",
       "      <td>105</td>\n",
       "    </tr>\n",
       "    <tr>\n",
       "      <th>40</th>\n",
       "      <td>209</td>\n",
       "      <td>209</td>\n",
       "      <td>209</td>\n",
       "      <td>209</td>\n",
       "      <td>209</td>\n",
       "    </tr>\n",
       "    <tr>\n",
       "      <th>41</th>\n",
       "      <td>250</td>\n",
       "      <td>250</td>\n",
       "      <td>250</td>\n",
       "      <td>250</td>\n",
       "      <td>250</td>\n",
       "    </tr>\n",
       "    <tr>\n",
       "      <th>42</th>\n",
       "      <td>136</td>\n",
       "      <td>136</td>\n",
       "      <td>136</td>\n",
       "      <td>136</td>\n",
       "      <td>136</td>\n",
       "    </tr>\n",
       "    <tr>\n",
       "      <th>43</th>\n",
       "      <td>137</td>\n",
       "      <td>137</td>\n",
       "      <td>137</td>\n",
       "      <td>137</td>\n",
       "      <td>137</td>\n",
       "    </tr>\n",
       "    <tr>\n",
       "      <th>44</th>\n",
       "      <td>121</td>\n",
       "      <td>121</td>\n",
       "      <td>121</td>\n",
       "      <td>121</td>\n",
       "      <td>121</td>\n",
       "    </tr>\n",
       "    <tr>\n",
       "      <th>45</th>\n",
       "      <td>74</td>\n",
       "      <td>74</td>\n",
       "      <td>74</td>\n",
       "      <td>74</td>\n",
       "      <td>74</td>\n",
       "    </tr>\n",
       "    <tr>\n",
       "      <th>46</th>\n",
       "      <td>120</td>\n",
       "      <td>120</td>\n",
       "      <td>120</td>\n",
       "      <td>120</td>\n",
       "      <td>120</td>\n",
       "    </tr>\n",
       "    <tr>\n",
       "      <th>47</th>\n",
       "      <td>133</td>\n",
       "      <td>133</td>\n",
       "      <td>133</td>\n",
       "      <td>133</td>\n",
       "      <td>133</td>\n",
       "    </tr>\n",
       "    <tr>\n",
       "      <th>48</th>\n",
       "      <td>147</td>\n",
       "      <td>147</td>\n",
       "      <td>147</td>\n",
       "      <td>147</td>\n",
       "      <td>147</td>\n",
       "    </tr>\n",
       "    <tr>\n",
       "      <th>49</th>\n",
       "      <td>187</td>\n",
       "      <td>187</td>\n",
       "      <td>187</td>\n",
       "      <td>187</td>\n",
       "      <td>187</td>\n",
       "    </tr>\n",
       "    <tr>\n",
       "      <th>50</th>\n",
       "      <td>195</td>\n",
       "      <td>195</td>\n",
       "      <td>195</td>\n",
       "      <td>195</td>\n",
       "      <td>195</td>\n",
       "    </tr>\n",
       "    <tr>\n",
       "      <th>51</th>\n",
       "      <td>286</td>\n",
       "      <td>286</td>\n",
       "      <td>286</td>\n",
       "      <td>286</td>\n",
       "      <td>286</td>\n",
       "    </tr>\n",
       "    <tr>\n",
       "      <th>52</th>\n",
       "      <td>178</td>\n",
       "      <td>178</td>\n",
       "      <td>178</td>\n",
       "      <td>178</td>\n",
       "      <td>178</td>\n",
       "    </tr>\n",
       "    <tr>\n",
       "      <th>53</th>\n",
       "      <td>132</td>\n",
       "      <td>132</td>\n",
       "      <td>132</td>\n",
       "      <td>132</td>\n",
       "      <td>132</td>\n",
       "    </tr>\n",
       "    <tr>\n",
       "      <th>54</th>\n",
       "      <td>389</td>\n",
       "      <td>389</td>\n",
       "      <td>389</td>\n",
       "      <td>389</td>\n",
       "      <td>389</td>\n",
       "    </tr>\n",
       "    <tr>\n",
       "      <th>55</th>\n",
       "      <td>263</td>\n",
       "      <td>263</td>\n",
       "      <td>263</td>\n",
       "      <td>263</td>\n",
       "      <td>263</td>\n",
       "    </tr>\n",
       "    <tr>\n",
       "      <th>56</th>\n",
       "      <td>92</td>\n",
       "      <td>92</td>\n",
       "      <td>92</td>\n",
       "      <td>92</td>\n",
       "      <td>92</td>\n",
       "    </tr>\n",
       "    <tr>\n",
       "      <th>57</th>\n",
       "      <td>149</td>\n",
       "      <td>149</td>\n",
       "      <td>149</td>\n",
       "      <td>149</td>\n",
       "      <td>149</td>\n",
       "    </tr>\n",
       "    <tr>\n",
       "      <th>58</th>\n",
       "      <td>161</td>\n",
       "      <td>161</td>\n",
       "      <td>161</td>\n",
       "      <td>161</td>\n",
       "      <td>161</td>\n",
       "    </tr>\n",
       "    <tr>\n",
       "      <th>59</th>\n",
       "      <td>115</td>\n",
       "      <td>115</td>\n",
       "      <td>115</td>\n",
       "      <td>115</td>\n",
       "      <td>115</td>\n",
       "    </tr>\n",
       "    <tr>\n",
       "      <th>60</th>\n",
       "      <td>115</td>\n",
       "      <td>115</td>\n",
       "      <td>115</td>\n",
       "      <td>115</td>\n",
       "      <td>115</td>\n",
       "    </tr>\n",
       "  </tbody>\n",
       "</table>\n",
       "</div>"
      ],
      "text/plain": [
       "           InstanceID  ImageName  cellTypeName  cellType  isCancerous\n",
       "patientID                                                            \n",
       "1                  19         19            19        19           19\n",
       "2                  33         33            33        33           33\n",
       "3                 136        136           136       136          136\n",
       "4                 127        127           127       127          127\n",
       "5                 169        169           169       169          169\n",
       "6                 198        198           198       198          198\n",
       "7                 253        253           253       253          253\n",
       "8                 332        332           332       332          332\n",
       "9                 348        348           348       348          348\n",
       "10                302        302           302       302          302\n",
       "11                 56         56            56        56           56\n",
       "12                130        130           130       130          130\n",
       "13                180        180           180       180          180\n",
       "14                207        207           207       207          207\n",
       "15                125        125           125       125          125\n",
       "16                111        111           111       111          111\n",
       "17                310        310           310       310          310\n",
       "18                320        320           320       320          320\n",
       "19                158        158           158       158          158\n",
       "20                325        325           325       325          325\n",
       "21                224        224           224       224          224\n",
       "22                152        152           152       152          152\n",
       "23                254        254           254       254          254\n",
       "24                192        192           192       192          192\n",
       "25                180        180           180       180          180\n",
       "26                157        157           157       157          157\n",
       "27                 17         17            17        17           17\n",
       "28                 15         15            15        15           15\n",
       "29                355        355           355       355          355\n",
       "30                110        110           110       110          110\n",
       "31                137        137           137       137          137\n",
       "32                 99         99            99        99           99\n",
       "33                163        163           163       163          163\n",
       "34                 14         14            14        14           14\n",
       "35                 11         11            11        11           11\n",
       "36                128        128           128       128          128\n",
       "37                 71         71            71        71           71\n",
       "38                 84         84            84        84           84\n",
       "39                105        105           105       105          105\n",
       "40                209        209           209       209          209\n",
       "41                250        250           250       250          250\n",
       "42                136        136           136       136          136\n",
       "43                137        137           137       137          137\n",
       "44                121        121           121       121          121\n",
       "45                 74         74            74        74           74\n",
       "46                120        120           120       120          120\n",
       "47                133        133           133       133          133\n",
       "48                147        147           147       147          147\n",
       "49                187        187           187       187          187\n",
       "50                195        195           195       195          195\n",
       "51                286        286           286       286          286\n",
       "52                178        178           178       178          178\n",
       "53                132        132           132       132          132\n",
       "54                389        389           389       389          389\n",
       "55                263        263           263       263          263\n",
       "56                 92         92            92        92           92\n",
       "57                149        149           149       149          149\n",
       "58                161        161           161       161          161\n",
       "59                115        115           115       115          115\n",
       "60                115        115           115       115          115"
      ]
     },
     "execution_count": 20,
     "metadata": {},
     "output_type": "execute_result"
    }
   ],
   "source": [
    "# cancer_data_frame['patientID'].value_counts()\n",
    "main_data_frame.groupby(['patientID']).count()"
   ]
  },
  {
   "cell_type": "markdown",
   "metadata": {
    "id": "8UH1NNniluPh"
   },
   "source": [
    ">This data shows that there are total of 60 patients details in the given dataframe."
   ]
  },
  {
   "cell_type": "code",
   "execution_count": 21,
   "metadata": {
    "colab": {
     "base_uri": "https://localhost:8080/",
     "height": 295
    },
    "id": "AY3Q-vTVluPh",
    "outputId": "ff5df028-2b12-4e4a-a77c-c760149e5f96"
   },
   "outputs": [
    {
     "data": {
      "image/png": "[encoded data removed]",
      "text/plain": [
       "<Figure size 432x288 with 1 Axes>"
      ]
     },
     "metadata": {
      "needs_background": "light"
     },
     "output_type": "display_data"
    }
   ],
   "source": [
    "plot = plt.subplots(figsize=(6,4))\n",
    "sns.countplot(x='isCancerous', data=main_data_frame)\n",
    "plt.title(\"Cancerous or not\")\n",
    "plt.show()"
   ]
  },
  {
   "cell_type": "code",
   "execution_count": 22,
   "metadata": {
    "colab": {
     "base_uri": "https://localhost:8080/",
     "height": 295
    },
    "id": "4SKBuoogluPh",
    "outputId": "1628459d-ed0a-4989-c28d-0e4f12ad71b6"
   },
   "outputs": [
    {
     "data": {
      "image/png": "[encoded data removed]",
      "text/plain": [
       "<Figure size 432x288 with 1 Axes>"
      ]
     },
     "metadata": {
      "needs_background": "light"
     },
     "output_type": "display_data"
    }
   ],
   "source": [
    "plot = plt.subplots(figsize=(6,4))\n",
    "sns.countplot(x='cellTypeName', data=main_data_frame)\n",
    "plt.title(\"Types of cell\")\n",
    "plt.show()"
   ]
  },
  {
   "cell_type": "code",
   "execution_count": 23,
   "metadata": {
    "colab": {
     "base_uri": "https://localhost:8080/",
     "height": 295
    },
    "id": "5blfUziKluPi",
    "outputId": "576f9763-f7e2-4d30-aef0-5b803f34e35b"
   },
   "outputs": [
    {
     "data": {
      "image/png": "[encoded data removed]",
      "text/plain": [
       "<Figure size 432x288 with 1 Axes>"
      ]
     },
     "metadata": {
      "needs_background": "light"
     },
     "output_type": "display_data"
    }
   ],
   "source": [
    "plot = plt.subplots(figsize=(6,4))\n",
    "sns.countplot(x='cellType', data=main_data_frame)\n",
    "plt.title(\"Types of cell\")\n",
    "plt.show()"
   ]
  },
  {
   "cell_type": "code",
   "execution_count": 24,
   "metadata": {
    "colab": {
     "base_uri": "https://localhost:8080/",
     "height": 281
    },
    "id": "m9MsSCLqluPi",
    "outputId": "65ee7979-885b-42b9-971e-a108f68258fb"
   },
   "outputs": [
    {
     "data": {
      "image/png": "[encoded data removed]",
      "text/plain": [
       "<Figure size 432x288 with 1 Axes>"
      ]
     },
     "metadata": {
      "needs_background": "light"
     },
     "output_type": "display_data"
    }
   ],
   "source": [
    "plt.boxplot(main_data_frame['cellType'])\n",
    "plt.title('Cell Types')\n",
    "plt.show()"
   ]
  },
  {
   "cell_type": "markdown",
   "metadata": {
    "id": "9H3xI70-t67A"
   },
   "source": [
    "Since InstanceID and patientID does not impact on the classification of cell types we decided to drop those columns in our modeling process."
   ]
  },
  {
   "cell_type": "code",
   "execution_count": 25,
   "metadata": {
    "id": "0eEDDQL9luPi"
   },
   "outputs": [],
   "source": [
    "main_data_frame = main_data_frame.drop(columns = ['InstanceID', 'patientID'])"
   ]
  },
  {
   "cell_type": "code",
   "execution_count": 26,
   "metadata": {
    "colab": {
     "base_uri": "https://localhost:8080/",
     "height": 198
    },
    "id": "Jr-IAaUrDcVh",
    "outputId": "3d2a0a72-0285-424f-d98a-4dcc18aa23f4"
   },
   "outputs": [
    {
     "data": {
      "text/html": [
       "<div>\n",
       "<style scoped>\n",
       "    .dataframe tbody tr th:only-of-type {\n",
       "        vertical-align: middle;\n",
       "    }\n",
       "\n",
       "    .dataframe tbody tr th {\n",
       "        vertical-align: top;\n",
       "    }\n",
       "\n",
       "    .dataframe thead th {\n",
       "        text-align: right;\n",
       "    }\n",
       "</style>\n",
       "<table border=\"1\" class=\"dataframe\">\n",
       "  <thead>\n",
       "    <tr style=\"text-align: right;\">\n",
       "      <th></th>\n",
       "      <th>ImageName</th>\n",
       "      <th>cellTypeName</th>\n",
       "      <th>cellType</th>\n",
       "      <th>isCancerous</th>\n",
       "    </tr>\n",
       "  </thead>\n",
       "  <tbody>\n",
       "    <tr>\n",
       "      <th>0</th>\n",
       "      <td>22405.png</td>\n",
       "      <td>fibroblast</td>\n",
       "      <td>0</td>\n",
       "      <td>0</td>\n",
       "    </tr>\n",
       "    <tr>\n",
       "      <th>1</th>\n",
       "      <td>22406.png</td>\n",
       "      <td>fibroblast</td>\n",
       "      <td>0</td>\n",
       "      <td>0</td>\n",
       "    </tr>\n",
       "    <tr>\n",
       "      <th>2</th>\n",
       "      <td>22407.png</td>\n",
       "      <td>fibroblast</td>\n",
       "      <td>0</td>\n",
       "      <td>0</td>\n",
       "    </tr>\n",
       "    <tr>\n",
       "      <th>3</th>\n",
       "      <td>22408.png</td>\n",
       "      <td>fibroblast</td>\n",
       "      <td>0</td>\n",
       "      <td>0</td>\n",
       "    </tr>\n",
       "    <tr>\n",
       "      <th>4</th>\n",
       "      <td>22409.png</td>\n",
       "      <td>fibroblast</td>\n",
       "      <td>0</td>\n",
       "      <td>0</td>\n",
       "    </tr>\n",
       "  </tbody>\n",
       "</table>\n",
       "</div>"
      ],
      "text/plain": [
       "   ImageName cellTypeName  cellType  isCancerous\n",
       "0  22405.png   fibroblast         0            0\n",
       "1  22406.png   fibroblast         0            0\n",
       "2  22407.png   fibroblast         0            0\n",
       "3  22408.png   fibroblast         0            0\n",
       "4  22409.png   fibroblast         0            0"
      ]
     },
     "execution_count": 26,
     "metadata": {},
     "output_type": "execute_result"
    }
   ],
   "source": [
    "main_data_frame.head()"
   ]
  },
  {
   "cell_type": "code",
   "execution_count": 27,
   "metadata": {
    "id": "vHldI2KslqN7"
   },
   "outputs": [],
   "source": [
    "class_names = ['epithelial', 'inflammatory',  'fibroblast' , 'others']"
   ]
  },
  {
   "cell_type": "code",
   "execution_count": 28,
   "metadata": {
    "colab": {
     "base_uri": "https://localhost:8080/",
     "height": 1000
    },
    "id": "ib6CPn-k_olH",
    "outputId": "bf7ecaaa-15c2-4425-8381-263862b60823"
   },
   "outputs": [
    {
     "data": {
      "text/html": [
       "<div>\n",
       "<style scoped>\n",
       "    .dataframe tbody tr th:only-of-type {\n",
       "        vertical-align: middle;\n",
       "    }\n",
       "\n",
       "    .dataframe tbody tr th {\n",
       "        vertical-align: top;\n",
       "    }\n",
       "\n",
       "    .dataframe thead th {\n",
       "        text-align: right;\n",
       "    }\n",
       "</style>\n",
       "<table border=\"1\" class=\"dataframe\">\n",
       "  <thead>\n",
       "    <tr style=\"text-align: right;\">\n",
       "      <th></th>\n",
       "      <th>InstanceID</th>\n",
       "      <th>ImageName</th>\n",
       "      <th>isCancerous</th>\n",
       "    </tr>\n",
       "    <tr>\n",
       "      <th>patientID</th>\n",
       "      <th></th>\n",
       "      <th></th>\n",
       "      <th></th>\n",
       "    </tr>\n",
       "  </thead>\n",
       "  <tbody>\n",
       "    <tr>\n",
       "      <th>61</th>\n",
       "      <td>114</td>\n",
       "      <td>114</td>\n",
       "      <td>114</td>\n",
       "    </tr>\n",
       "    <tr>\n",
       "      <th>62</th>\n",
       "      <td>93</td>\n",
       "      <td>93</td>\n",
       "      <td>93</td>\n",
       "    </tr>\n",
       "    <tr>\n",
       "      <th>63</th>\n",
       "      <td>45</td>\n",
       "      <td>45</td>\n",
       "      <td>45</td>\n",
       "    </tr>\n",
       "    <tr>\n",
       "      <th>64</th>\n",
       "      <td>86</td>\n",
       "      <td>86</td>\n",
       "      <td>86</td>\n",
       "    </tr>\n",
       "    <tr>\n",
       "      <th>65</th>\n",
       "      <td>326</td>\n",
       "      <td>326</td>\n",
       "      <td>326</td>\n",
       "    </tr>\n",
       "    <tr>\n",
       "      <th>66</th>\n",
       "      <td>376</td>\n",
       "      <td>376</td>\n",
       "      <td>376</td>\n",
       "    </tr>\n",
       "    <tr>\n",
       "      <th>67</th>\n",
       "      <td>369</td>\n",
       "      <td>369</td>\n",
       "      <td>369</td>\n",
       "    </tr>\n",
       "    <tr>\n",
       "      <th>68</th>\n",
       "      <td>422</td>\n",
       "      <td>422</td>\n",
       "      <td>422</td>\n",
       "    </tr>\n",
       "    <tr>\n",
       "      <th>69</th>\n",
       "      <td>337</td>\n",
       "      <td>337</td>\n",
       "      <td>337</td>\n",
       "    </tr>\n",
       "    <tr>\n",
       "      <th>70</th>\n",
       "      <td>199</td>\n",
       "      <td>199</td>\n",
       "      <td>199</td>\n",
       "    </tr>\n",
       "    <tr>\n",
       "      <th>71</th>\n",
       "      <td>290</td>\n",
       "      <td>290</td>\n",
       "      <td>290</td>\n",
       "    </tr>\n",
       "    <tr>\n",
       "      <th>72</th>\n",
       "      <td>91</td>\n",
       "      <td>91</td>\n",
       "      <td>91</td>\n",
       "    </tr>\n",
       "    <tr>\n",
       "      <th>73</th>\n",
       "      <td>12</td>\n",
       "      <td>12</td>\n",
       "      <td>12</td>\n",
       "    </tr>\n",
       "    <tr>\n",
       "      <th>74</th>\n",
       "      <td>8</td>\n",
       "      <td>8</td>\n",
       "      <td>8</td>\n",
       "    </tr>\n",
       "    <tr>\n",
       "      <th>75</th>\n",
       "      <td>12</td>\n",
       "      <td>12</td>\n",
       "      <td>12</td>\n",
       "    </tr>\n",
       "    <tr>\n",
       "      <th>77</th>\n",
       "      <td>696</td>\n",
       "      <td>696</td>\n",
       "      <td>696</td>\n",
       "    </tr>\n",
       "    <tr>\n",
       "      <th>78</th>\n",
       "      <td>409</td>\n",
       "      <td>409</td>\n",
       "      <td>409</td>\n",
       "    </tr>\n",
       "    <tr>\n",
       "      <th>79</th>\n",
       "      <td>699</td>\n",
       "      <td>699</td>\n",
       "      <td>699</td>\n",
       "    </tr>\n",
       "    <tr>\n",
       "      <th>80</th>\n",
       "      <td>507</td>\n",
       "      <td>507</td>\n",
       "      <td>507</td>\n",
       "    </tr>\n",
       "    <tr>\n",
       "      <th>81</th>\n",
       "      <td>365</td>\n",
       "      <td>365</td>\n",
       "      <td>365</td>\n",
       "    </tr>\n",
       "    <tr>\n",
       "      <th>82</th>\n",
       "      <td>213</td>\n",
       "      <td>213</td>\n",
       "      <td>213</td>\n",
       "    </tr>\n",
       "    <tr>\n",
       "      <th>83</th>\n",
       "      <td>339</td>\n",
       "      <td>339</td>\n",
       "      <td>339</td>\n",
       "    </tr>\n",
       "    <tr>\n",
       "      <th>84</th>\n",
       "      <td>316</td>\n",
       "      <td>316</td>\n",
       "      <td>316</td>\n",
       "    </tr>\n",
       "    <tr>\n",
       "      <th>85</th>\n",
       "      <td>405</td>\n",
       "      <td>405</td>\n",
       "      <td>405</td>\n",
       "    </tr>\n",
       "    <tr>\n",
       "      <th>86</th>\n",
       "      <td>360</td>\n",
       "      <td>360</td>\n",
       "      <td>360</td>\n",
       "    </tr>\n",
       "    <tr>\n",
       "      <th>87</th>\n",
       "      <td>342</td>\n",
       "      <td>342</td>\n",
       "      <td>342</td>\n",
       "    </tr>\n",
       "    <tr>\n",
       "      <th>88</th>\n",
       "      <td>374</td>\n",
       "      <td>374</td>\n",
       "      <td>374</td>\n",
       "    </tr>\n",
       "    <tr>\n",
       "      <th>89</th>\n",
       "      <td>480</td>\n",
       "      <td>480</td>\n",
       "      <td>480</td>\n",
       "    </tr>\n",
       "    <tr>\n",
       "      <th>90</th>\n",
       "      <td>416</td>\n",
       "      <td>416</td>\n",
       "      <td>416</td>\n",
       "    </tr>\n",
       "    <tr>\n",
       "      <th>91</th>\n",
       "      <td>642</td>\n",
       "      <td>642</td>\n",
       "      <td>642</td>\n",
       "    </tr>\n",
       "    <tr>\n",
       "      <th>92</th>\n",
       "      <td>571</td>\n",
       "      <td>571</td>\n",
       "      <td>571</td>\n",
       "    </tr>\n",
       "    <tr>\n",
       "      <th>93</th>\n",
       "      <td>78</td>\n",
       "      <td>78</td>\n",
       "      <td>78</td>\n",
       "    </tr>\n",
       "    <tr>\n",
       "      <th>94</th>\n",
       "      <td>32</td>\n",
       "      <td>32</td>\n",
       "      <td>32</td>\n",
       "    </tr>\n",
       "    <tr>\n",
       "      <th>95</th>\n",
       "      <td>27</td>\n",
       "      <td>27</td>\n",
       "      <td>27</td>\n",
       "    </tr>\n",
       "    <tr>\n",
       "      <th>96</th>\n",
       "      <td>6</td>\n",
       "      <td>6</td>\n",
       "      <td>6</td>\n",
       "    </tr>\n",
       "    <tr>\n",
       "      <th>97</th>\n",
       "      <td>166</td>\n",
       "      <td>166</td>\n",
       "      <td>166</td>\n",
       "    </tr>\n",
       "    <tr>\n",
       "      <th>98</th>\n",
       "      <td>86</td>\n",
       "      <td>86</td>\n",
       "      <td>86</td>\n",
       "    </tr>\n",
       "    <tr>\n",
       "      <th>99</th>\n",
       "      <td>75</td>\n",
       "      <td>75</td>\n",
       "      <td>75</td>\n",
       "    </tr>\n",
       "  </tbody>\n",
       "</table>\n",
       "</div>"
      ],
      "text/plain": [
       "           InstanceID  ImageName  isCancerous\n",
       "patientID                                    \n",
       "61                114        114          114\n",
       "62                 93         93           93\n",
       "63                 45         45           45\n",
       "64                 86         86           86\n",
       "65                326        326          326\n",
       "66                376        376          376\n",
       "67                369        369          369\n",
       "68                422        422          422\n",
       "69                337        337          337\n",
       "70                199        199          199\n",
       "71                290        290          290\n",
       "72                 91         91           91\n",
       "73                 12         12           12\n",
       "74                  8          8            8\n",
       "75                 12         12           12\n",
       "77                696        696          696\n",
       "78                409        409          409\n",
       "79                699        699          699\n",
       "80                507        507          507\n",
       "81                365        365          365\n",
       "82                213        213          213\n",
       "83                339        339          339\n",
       "84                316        316          316\n",
       "85                405        405          405\n",
       "86                360        360          360\n",
       "87                342        342          342\n",
       "88                374        374          374\n",
       "89                480        480          480\n",
       "90                416        416          416\n",
       "91                642        642          642\n",
       "92                571        571          571\n",
       "93                 78         78           78\n",
       "94                 32         32           32\n",
       "95                 27         27           27\n",
       "96                  6          6            6\n",
       "97                166        166          166\n",
       "98                 86         86           86\n",
       "99                 75         75           75"
      ]
     },
     "execution_count": 28,
     "metadata": {},
     "output_type": "execute_result"
    }
   ],
   "source": [
    "extra_data_frame.groupby(['patientID']).count()"
   ]
  },
  {
   "cell_type": "code",
   "execution_count": 29,
   "metadata": {
    "colab": {
     "base_uri": "https://localhost:8080/",
     "height": 295
    },
    "id": "D-GG9vbOyNkP",
    "outputId": "fd0b95be-02b3-419e-d382-032e694e3976"
   },
   "outputs": [
    {
     "data": {
      "image/png": "[encoded data removed]",
      "text/plain": [
       "<Figure size 432x288 with 1 Axes>"
      ]
     },
     "metadata": {
      "needs_background": "light"
     },
     "output_type": "display_data"
    }
   ],
   "source": [
    "plot = plt.subplots(figsize=(6,4))\n",
    "sns.countplot(x='isCancerous', data=extra_data_frame)\n",
    "plt.title(\"Cancerous or not\")\n",
    "plt.show()"
   ]
  },
  {
   "cell_type": "markdown",
   "metadata": {
    "id": "3vm1XNf4MUIE"
   },
   "source": [
    "# Evaluation of Models\n",
    "\n",
    "\n",
    "For the evaluation metric first we have selected the most popular evalaution method called F1-score which shows how accurate our model in prediction the target output variable in both train and test sets.\n",
    "\n",
    "The second evaluation method we have set learning curve where we can evaluate loss value and accuracy by using different parameter to get the better result."
   ]
  },
  {
   "cell_type": "code",
   "execution_count": 30,
   "metadata": {
    "id": "kByIb8JwGIvg"
   },
   "outputs": [],
   "source": [
    "from sklearn.metrics import classification_report\n",
    "from sklearn.metrics import confusion_matrix, accuracy_score, f1_score\n",
    "\n",
    "def evaluate_model(model, test_generator, batch_size):\n",
    "  # setup data some placeholders\n",
    "  y_hat_all = list()\n",
    "  y_all = list()\n",
    "  filenames = test_generator.filenames\n",
    "  N_images = len(filenames)\n",
    "  batches = 0\n",
    "\n",
    "  # iterate through the data generator and predict for each batch\n",
    "  # hold the predictions and labels\n",
    "  for x,y in test_generator:\n",
    "    y_hat = model.predict(x, verbose=0)\n",
    "    y_hat = np.argmax(y_hat, axis = 1)\n",
    "    y = np.argmax(y, axis = 1)\n",
    "    y_hat_all = y_hat_all + y_hat.tolist()\n",
    "    y_all = y_all + y.tolist()\n",
    "\n",
    "    batches += 1\n",
    "    if batches >= N_images / batch_size:\n",
    "      # we need to break the loop by hand because\n",
    "      # the generator loops indefinitely\n",
    "      break\n",
    "\n",
    "  # now you have made the predictions you can use any performance metric\n",
    "  # you wish: either in sklearn or some function you have written\n",
    "  print(confusion_matrix(y_all, y_hat_all))\n",
    "  print(\"F1 score: \", f1_score(y_all, y_hat_all, average='macro'))"
   ]
  },
  {
   "cell_type": "markdown",
   "metadata": {
    "id": "Kt5QVVIgfffG"
   },
   "source": [
    "The learning curve method for evaluating overfitting is defined as:"
   ]
  },
  {
   "cell_type": "code",
   "execution_count": 31,
   "metadata": {
    "id": "h-Lr9BN5Pfu2"
   },
   "outputs": [],
   "source": [
    "import matplotlib.pyplot as plt\n",
    "def plot_learning_curve(history):\n",
    "    plt.figure(figsize=(10,5))\n",
    "    \n",
    "    plt.subplot(1,2,1)\n",
    "    plt.plot(history.history['loss'], 'r--')\n",
    "    plt.plot(history.history['val_loss'], 'b--')\n",
    "    plt.xlabel(\"epochs\")\n",
    "    plt.ylabel(\"Loss\")\n",
    "    plt.legend(['train', 'val'], loc='upper left')\n",
    "\n",
    "    plt.subplot(1,2,2)\n",
    "    plt.plot(history.history['accuracy'], 'r--')\n",
    "    plt.plot(history.history['val_accuracy'], 'b--')\n",
    "    plt.xlabel(\"epochs\")\n",
    "    plt.ylabel(\"Accuracy\")\n",
    "    plt.legend(['train', 'val'], loc='upper left')\n",
    "\n",
    "    plt.show()"
   ]
  },
  {
   "cell_type": "markdown",
   "metadata": {
    "id": "AvBGSfP5kq9f"
   },
   "source": [
    "\n",
    "\n",
    "# Task 1: Cancerous cell or Not\n",
    "\n",
    "Now we are working on the given cell is cancerous or not which is defined by the column isCancerous where value 1 = cancerous cell and 0 = without cencerous cell\n",
    "\n",
    "Since we are classifying the cell types according to isCancerous or not, we have addition data frame named extra_data_frame with label image is attributes isCancerous so we decided to enlarge the number of data in the datasets and combined the datasets for our task 1."
   ]
  },
  {
   "cell_type": "code",
   "execution_count": 32,
   "metadata": {
    "id": "Decko4FDlaYp"
   },
   "outputs": [],
   "source": [
    "cancer_data_frame = pd.concat([main_data_frame[['ImageName', 'isCancerous']], extra_data_frame[['ImageName', 'isCancerous']]])"
   ]
  },
  {
   "cell_type": "markdown",
   "metadata": {
    "id": "AsEp41m_8Fcd"
   },
   "source": []
  },
  {
   "cell_type": "code",
   "execution_count": 33,
   "metadata": {
    "colab": {
     "base_uri": "https://localhost:8080/",
     "height": 198
    },
    "id": "72JAXc-4L4RN",
    "outputId": "72f36ffa-77ac-4e71-c7cb-66b71b54ffea"
   },
   "outputs": [
    {
     "data": {
      "text/html": [
       "<div>\n",
       "<style scoped>\n",
       "    .dataframe tbody tr th:only-of-type {\n",
       "        vertical-align: middle;\n",
       "    }\n",
       "\n",
       "    .dataframe tbody tr th {\n",
       "        vertical-align: top;\n",
       "    }\n",
       "\n",
       "    .dataframe thead th {\n",
       "        text-align: right;\n",
       "    }\n",
       "</style>\n",
       "<table border=\"1\" class=\"dataframe\">\n",
       "  <thead>\n",
       "    <tr style=\"text-align: right;\">\n",
       "      <th></th>\n",
       "      <th>ImageName</th>\n",
       "      <th>isCancerous</th>\n",
       "    </tr>\n",
       "  </thead>\n",
       "  <tbody>\n",
       "    <tr>\n",
       "      <th>0</th>\n",
       "      <td>22405.png</td>\n",
       "      <td>0</td>\n",
       "    </tr>\n",
       "    <tr>\n",
       "      <th>1</th>\n",
       "      <td>22406.png</td>\n",
       "      <td>0</td>\n",
       "    </tr>\n",
       "    <tr>\n",
       "      <th>2</th>\n",
       "      <td>22407.png</td>\n",
       "      <td>0</td>\n",
       "    </tr>\n",
       "    <tr>\n",
       "      <th>3</th>\n",
       "      <td>22408.png</td>\n",
       "      <td>0</td>\n",
       "    </tr>\n",
       "    <tr>\n",
       "      <th>4</th>\n",
       "      <td>22409.png</td>\n",
       "      <td>0</td>\n",
       "    </tr>\n",
       "  </tbody>\n",
       "</table>\n",
       "</div>"
      ],
      "text/plain": [
       "   ImageName  isCancerous\n",
       "0  22405.png            0\n",
       "1  22406.png            0\n",
       "2  22407.png            0\n",
       "3  22408.png            0\n",
       "4  22409.png            0"
      ]
     },
     "execution_count": 33,
     "metadata": {},
     "output_type": "execute_result"
    }
   ],
   "source": [
    "cancer_data_frame.head()"
   ]
  },
  {
   "cell_type": "code",
   "execution_count": 34,
   "metadata": {
    "colab": {
     "base_uri": "https://localhost:8080/"
    },
    "id": "eazdkNTHL__L",
    "outputId": "1d1b632a-9f4a-4c9f-c19f-750b0fa6992a"
   },
   "outputs": [
    {
     "data": {
      "text/plain": [
       "0    13211\n",
       "1     7069\n",
       "Name: isCancerous, dtype: int64"
      ]
     },
     "execution_count": 34,
     "metadata": {},
     "output_type": "execute_result"
    }
   ],
   "source": [
    "cancer_data_frame['isCancerous'].value_counts()"
   ]
  },
  {
   "cell_type": "markdown",
   "metadata": {
    "id": "kXidOjURkXqg"
   },
   "source": [
    "## Train Test Split of Cencerous data\n",
    "\n",
    "Next step is splitting the given data set into train and test set using train_test_split method provided by sklearn library. Here we are spliting original data set into 75% (train data frame) and 25%(test data frame). From train data set we will further spliting into train and validation of data by 25% more. After two spliting there will be three sets of data, one train data that is for training the model, validation set would be to verify the training module and finally the test set we will be comparing predicted data with the test set.\n"
   ]
  },
  {
   "cell_type": "code",
   "execution_count": 35,
   "metadata": {
    "colab": {
     "base_uri": "https://localhost:8080/"
    },
    "id": "e1JDZgcsfs49",
    "outputId": "e346b756-87a1-4432-9f59-e0cca5b42601"
   },
   "outputs": [
    {
     "name": "stdout",
     "output_type": "stream",
     "text": [
      "Train data : 11407, Val Data: 3803, Test Data: 5070\n"
     ]
    }
   ],
   "source": [
    "task1_train_data, task1_test_data = train_test_split(cancer_data_frame, test_size=0.25, random_state=42)\n",
    "task1_train_data, task1_val_data = train_test_split(task1_train_data, test_size=0.25, random_state=42)\n",
    "\n",
    "print(\"Train data : {}, Val Data: {}, Test Data: {}\".format(task1_train_data.shape[0],task1_val_data.shape[0], task1_test_data.shape[0]))\n"
   ]
  },
  {
   "cell_type": "code",
   "execution_count": 36,
   "metadata": {
    "colab": {
     "base_uri": "https://localhost:8080/",
     "height": 198
    },
    "id": "a7sUQY54s2Gm",
    "outputId": "2377955a-2512-40cf-e658-67c5421566ad"
   },
   "outputs": [
    {
     "data": {
      "text/html": [
       "<div>\n",
       "<style scoped>\n",
       "    .dataframe tbody tr th:only-of-type {\n",
       "        vertical-align: middle;\n",
       "    }\n",
       "\n",
       "    .dataframe tbody tr th {\n",
       "        vertical-align: top;\n",
       "    }\n",
       "\n",
       "    .dataframe thead th {\n",
       "        text-align: right;\n",
       "    }\n",
       "</style>\n",
       "<table border=\"1\" class=\"dataframe\">\n",
       "  <thead>\n",
       "    <tr style=\"text-align: right;\">\n",
       "      <th></th>\n",
       "      <th>ImageName</th>\n",
       "      <th>isCancerous</th>\n",
       "    </tr>\n",
       "  </thead>\n",
       "  <tbody>\n",
       "    <tr>\n",
       "      <th>2228</th>\n",
       "      <td>10314.png</td>\n",
       "      <td>0</td>\n",
       "    </tr>\n",
       "    <tr>\n",
       "      <th>885</th>\n",
       "      <td>9191.png</td>\n",
       "      <td>1</td>\n",
       "    </tr>\n",
       "    <tr>\n",
       "      <th>6853</th>\n",
       "      <td>9638.png</td>\n",
       "      <td>0</td>\n",
       "    </tr>\n",
       "    <tr>\n",
       "      <th>2773</th>\n",
       "      <td>8691.png</td>\n",
       "      <td>0</td>\n",
       "    </tr>\n",
       "    <tr>\n",
       "      <th>2433</th>\n",
       "      <td>3150.png</td>\n",
       "      <td>1</td>\n",
       "    </tr>\n",
       "  </tbody>\n",
       "</table>\n",
       "</div>"
      ],
      "text/plain": [
       "      ImageName  isCancerous\n",
       "2228  10314.png            0\n",
       "885    9191.png            1\n",
       "6853   9638.png            0\n",
       "2773   8691.png            0\n",
       "2433   3150.png            1"
      ]
     },
     "execution_count": 36,
     "metadata": {},
     "output_type": "execute_result"
    }
   ],
   "source": [
    "task1_train_data.head()"
   ]
  },
  {
   "cell_type": "markdown",
   "metadata": {
    "id": "YRIc3gq5mC4t"
   },
   "source": [
    "Randomly selected image from the given image set."
   ]
  },
  {
   "cell_type": "code",
   "execution_count": 37,
   "metadata": {
    "colab": {
     "base_uri": "https://localhost:8080/",
     "height": 311
    },
    "id": "Dn4Y7_QSMFle",
    "outputId": "f04092ba-46ad-41bb-b7e7-011b1ea4456c"
   },
   "outputs": [
    {
     "name": "stdout",
     "output_type": "stream",
     "text": [
      "Random image  2696    18383.png\n",
      "6701    10086.png\n",
      "1570     6286.png\n",
      "5988       72.png\n",
      "Name: ImageName, dtype: object\n"
     ]
    },
    {
     "data": {
      "image/png": "[encoded data removed]",
      "text/plain": [
       "<Figure size 1152x288 with 4 Axes>"
      ]
     },
     "metadata": {
      "needs_background": "light"
     },
     "output_type": "display_data"
    }
   ],
   "source": [
    "r_inx = np.random.choice(100, 4)\n",
    "\n",
    "print(\"Random image \" , task1_train_data['ImageName'].iloc[r_inx])\n",
    "rand_data = task1_train_data['ImageName'].iloc[r_inx]\n",
    "\n",
    "plt.figure(figsize=(16,4))\n",
    "for i, image_path in enumerate(rand_data):\n",
    "    im = np.asarray(Image.open(\"./data/patch_images/\" + image_path))\n",
    "    plt.subplot(1,4,i+1)\n",
    "    plt.imshow(im,cmap='gray')\n",
    "    plt.axis('off')\n",
    "    \n",
    "plt.show()"
   ]
  },
  {
   "cell_type": "markdown",
   "metadata": {
    "id": "U_WIvEkNmg30"
   },
   "source": [
    "Selecting an train data set of images of array without target column"
   ]
  },
  {
   "cell_type": "markdown",
   "metadata": {
    "id": "Ij926X3MmsIp"
   },
   "source": [
    "Selecting a target column of data from train_data"
   ]
  },
  {
   "cell_type": "code",
   "execution_count": 38,
   "metadata": {
    "colab": {
     "base_uri": "https://localhost:8080/"
    },
    "id": "q_oI9CDRoXWo",
    "outputId": "81f110dc-6543-40fd-90fe-f12c60cdd3a2"
   },
   "outputs": [
    {
     "data": {
      "text/plain": [
       "(11407,)"
      ]
     },
     "execution_count": 38,
     "metadata": {},
     "output_type": "execute_result"
    }
   ],
   "source": [
    "y = np.array(task1_train_data['isCancerous'])\n",
    "y.shape"
   ]
  },
  {
   "cell_type": "code",
   "execution_count": 39,
   "metadata": {
    "colab": {
     "base_uri": "https://localhost:8080/"
    },
    "id": "QqvhMSUzsXuV",
    "outputId": "9471ad84-cc52-4d62-f78f-2ee985d07b59"
   },
   "outputs": [
    {
     "name": "stdout",
     "output_type": "stream",
     "text": [
      "[0 1 0 ... 0 0 1]\n"
     ]
    }
   ],
   "source": [
    "print(y)"
   ]
  },
  {
   "cell_type": "markdown",
   "metadata": {
    "id": "o8Xzhf8ffmFu"
   },
   "source": [
    "Normalization of the train and validation data with by dividing with 255."
   ]
  },
  {
   "cell_type": "code",
   "execution_count": 40,
   "metadata": {
    "colab": {
     "base_uri": "https://localhost:8080/"
    },
    "id": "eHCtCrAnRIki",
    "outputId": "25516341-376e-499d-d8dd-95f36371babd"
   },
   "outputs": [
    {
     "name": "stderr",
     "output_type": "stream",
     "text": [
      "<ipython-input-40-b2d4ec251589>:6: SettingWithCopyWarning: \n",
      "A value is trying to be set on a copy of a slice from a DataFrame.\n",
      "Try using .loc[row_indexer,col_indexer] = value instead\n",
      "\n",
      "See the caveats in the documentation: https://pandas.pydata.org/pandas-docs/stable/user_guide/indexing.html#returning-a-view-versus-a-copy\n",
      "  task1_test_data['isCancerous'] = task1_test_data['isCancerous'].astype('str')\n"
     ]
    },
    {
     "name": "stdout",
     "output_type": "stream",
     "text": [
      "Found 11407 validated image filenames belonging to 2 classes.\n",
      "Found 5070 validated image filenames belonging to 2 classes.\n",
      "Found 3803 validated image filenames belonging to 2 classes.\n"
     ]
    }
   ],
   "source": [
    "task1_train_datagenerator = ImageDataGenerator(rescale=1./255, data_format='channels_last')\n",
    "task1_val_datagenerator = ImageDataGenerator(rescale=1./255, data_format='channels_last')\n",
    "task1_test_datagenerator = ImageDataGenerator(rescale=1./255, data_format='channels_last')\n",
    "task1_train_data['isCancerous'] = task1_train_data['isCancerous'].astype('str')\n",
    "task1_val_data['isCancerous'] = task1_val_data['isCancerous'].astype('str')\n",
    "task1_test_data['isCancerous'] = task1_test_data['isCancerous'].astype('str')\n",
    "\n",
    "batch_size = 32\n",
    "\n",
    "task1_train_images = task1_train_datagenerator.flow_from_dataframe(\n",
    "        dataframe=task1_train_data,\n",
    "        directory=\"./data/patch_images\",\n",
    "        x_col=\"ImageName\",\n",
    "        y_col=\"isCancerous\",\n",
    "        target_size=(27, 27),\n",
    "        batch_size=batch_size,\n",
    "        class_mode='categorical')\n",
    "\n",
    "task1_test_images = task1_val_datagenerator.flow_from_dataframe(\n",
    "        dataframe=task1_test_data,\n",
    "        directory=\"./data/patch_images\",\n",
    "        x_col= \"ImageName\",\n",
    "        y_col=\"isCancerous\",\n",
    "        target_size=(27, 27),\n",
    "        batch_size=batch_size,\n",
    "        class_mode='categorical')\n",
    "\n",
    "task1_val_images = task1_val_datagenerator.flow_from_dataframe(\n",
    "        dataframe=task1_val_data,\n",
    "        directory=\"./data/patch_images\",\n",
    "        x_col= \"ImageName\",\n",
    "        y_col=\"isCancerous\",\n",
    "        target_size=(27, 27),\n",
    "        batch_size=batch_size,\n",
    "        class_mode='categorical')"
   ]
  },
  {
   "cell_type": "markdown",
   "metadata": {
    "id": "xUrjSwuQRU2a"
   },
   "source": [
    "## Baseline Model: Simple Neural Network with a single Dense layer\n",
    "\n",
    "This is a supervised learning task and we're starting with a simple single layer Neural Network to explore how well the model can work. For further exploration, we will expand the model using Convolution 2D and Max Pooling blocks based on the VGG Neural Network. \n",
    "\n",
    "For this model we are taking seqential series with Flatten layer with input shape (27,27,3) where fully connected network of hidden nodes size 128 as default. We have taken sigmoid as an activation and then output layer set as 2 as the task based on two category classification.\n",
    "\n",
    "**Model Characteristics**: Our input files are of the resolution 27 x 27 making the input shape (27, 27, 3). We're starting with 128 hidden nodes in the dense layer and using Sigmoid activation with SGD optimizer. "
   ]
  },
  {
   "cell_type": "code",
   "execution_count": 41,
   "metadata": {
    "id": "mphab6ppLB7-"
   },
   "outputs": [],
   "source": [
    "model = tf.keras.Sequential([\n",
    "    tf.keras.layers.Flatten(input_shape=(27, 27, 3)),\n",
    "    tf.keras.layers.Dense(128, activation='sigmoid'),\n",
    "    tf.keras.layers.Dense(2)\n",
    "])\n",
    "\n",
    "model.compile(optimizer='SGD',\n",
    "              loss=tf.keras.losses.CategoricalCrossentropy(from_logits=True),\n",
    "              metrics=['accuracy'])"
   ]
  },
  {
   "cell_type": "code",
   "execution_count": 42,
   "metadata": {
    "colab": {
     "base_uri": "https://localhost:8080/",
     "height": 422
    },
    "id": "SqdnDmeGRIWP",
    "outputId": "e425c1e5-01df-4755-d369-6bf076349b32"
   },
   "outputs": [
    {
     "name": "stdout",
     "output_type": "stream",
     "text": [
      "('You must install pydot (`pip install pydot`) and install graphviz (see instructions at https://graphviz.gitlab.io/download/) ', 'for plot_model/model_to_dot to work.')\n"
     ]
    }
   ],
   "source": [
    "tf.keras.utils.plot_model(model, show_shapes=True)"
   ]
  },
  {
   "cell_type": "markdown",
   "metadata": {
    "id": "56HjIobQhmE_"
   },
   "source": [
    "Compile the model using loss function, which illustrate the how accurate the model predicting.\n"
   ]
  },
  {
   "cell_type": "code",
   "execution_count": 43,
   "metadata": {
    "id": "OHNozVHMPGbG"
   },
   "outputs": [],
   "source": [
    "history = model.fit(task1_train_images, validation_data=task1_val_images, epochs=25, verbose=0)"
   ]
  },
  {
   "cell_type": "markdown",
   "metadata": {
    "id": "ysqKXlZQfkPQ"
   },
   "source": [
    "Plot the learning curve to find out how accurate the model predicting and how loss is minimized corresponding with the values of epochs."
   ]
  },
  {
   "cell_type": "code",
   "execution_count": 44,
   "metadata": {
    "colab": {
     "base_uri": "https://localhost:8080/",
     "height": 334
    },
    "id": "GCIbJSclPph0",
    "outputId": "cd2237df-5d55-42ea-b160-61968387e2c9"
   },
   "outputs": [
    {
     "data": {
      "image/png": "[encoded data removed]",
      "text/plain": [
       "<Figure size 720x360 with 2 Axes>"
      ]
     },
     "metadata": {
      "needs_background": "light"
     },
     "output_type": "display_data"
    }
   ],
   "source": [
    "plot_learning_curve(history)"
   ]
  },
  {
   "cell_type": "markdown",
   "metadata": {
    "id": "aCezSZOqZdpZ"
   },
   "source": [
    "We can see that the data is slightly is slightly overfitting but is within acceptable range and the model can be considered viable. Evaluating this model gives us:"
   ]
  },
  {
   "cell_type": "code",
   "execution_count": 45,
   "metadata": {
    "colab": {
     "base_uri": "https://localhost:8080/"
    },
    "id": "TC0WdQE6ZA6n",
    "outputId": "a95eb49b-fbdb-4b38-f2de-25ca5539c9ee"
   },
   "outputs": [
    {
     "name": "stdout",
     "output_type": "stream",
     "text": [
      "[[2396   75]\n",
      " [ 686  646]]\n",
      "F1 score:  0.7461399511188688\n"
     ]
    }
   ],
   "source": [
    "evaluate_model(model, task1_val_images, 32)"
   ]
  },
  {
   "cell_type": "markdown",
   "metadata": {
    "id": "B7v8C0KEi_-N"
   },
   "source": [
    "### Hyperparameter Tunning\n",
    "\n",
    "For further tuning the model, we tried the following steps"
   ]
  },
  {
   "cell_type": "markdown",
   "metadata": {
    "id": "C5a7UQKgi1br"
   },
   "source": [
    "#### Increase in number of hidden nodes in the Dense layer"
   ]
  },
  {
   "cell_type": "code",
   "execution_count": 46,
   "metadata": {
    "id": "K7kEKEQ5i6Xu"
   },
   "outputs": [],
   "source": [
    "model = tf.keras.Sequential([\n",
    "    tf.keras.layers.Flatten(input_shape=(27, 27, 3)),\n",
    "    tf.keras.layers.Dense(256, activation='sigmoid'),\n",
    "    tf.keras.layers.Dense(2)\n",
    "])\n",
    "\n",
    "model.compile(optimizer='SGD',\n",
    "              loss=tf.keras.losses.CategoricalCrossentropy(from_logits=True),\n",
    "              metrics=['accuracy'])"
   ]
  },
  {
   "cell_type": "code",
   "execution_count": 47,
   "metadata": {
    "id": "43J_xvackG6b"
   },
   "outputs": [],
   "source": [
    "history = model.fit(task1_train_images,validation_data = task1_val_images, epochs=25, verbose=0)"
   ]
  },
  {
   "cell_type": "code",
   "execution_count": 48,
   "metadata": {
    "colab": {
     "base_uri": "https://localhost:8080/",
     "height": 55
    },
    "id": "-QTeu279jMSM",
    "outputId": "e7219262-0f14-46a0-c3fc-1fa309215731"
   },
   "outputs": [
    {
     "data": {
      "image/png": "[encoded data removed]",
      "text/plain": [
       "<Figure size 720x360 with 2 Axes>"
      ]
     },
     "metadata": {
      "needs_background": "light"
     },
     "output_type": "display_data"
    }
   ],
   "source": [
    "plot_learning_curve(history)"
   ]
  },
  {
   "cell_type": "code",
   "execution_count": 49,
   "metadata": {
    "colab": {
     "base_uri": "https://localhost:8080/"
    },
    "id": "EsrtiqIZjRl1",
    "outputId": "b899d57e-6c9e-4f6c-9e99-fdec5b93ead4"
   },
   "outputs": [
    {
     "name": "stdout",
     "output_type": "stream",
     "text": [
      "[[2130  341]\n",
      " [ 266 1066]]\n",
      "F1 score:  0.826834393629208\n"
     ]
    }
   ],
   "source": [
    "evaluate_model(model, task1_val_images, 32)"
   ]
  },
  {
   "cell_type": "markdown",
   "metadata": {
    "id": "2FxBKvuvOe4y"
   },
   "source": [
    "#### Trying Adam optimizer instead of SGD\n",
    "\n",
    "Adam optimizer is a newer which replaces SGD in recent versions of Keras / Tensorflow. "
   ]
  },
  {
   "cell_type": "code",
   "execution_count": 50,
   "metadata": {
    "id": "GNbTUdzbOj5l"
   },
   "outputs": [],
   "source": [
    "model = tf.keras.Sequential([\n",
    "    tf.keras.layers.Flatten(input_shape=(27, 27, 3)),\n",
    "    tf.keras.layers.Dense(256, activation='sigmoid'),\n",
    "    tf.keras.layers.Dense(2)\n",
    "])\n",
    "\n",
    "model.compile(optimizer=tf.keras.optimizers.Adam(),\n",
    "              loss=tf.keras.losses.CategoricalCrossentropy(from_logits=True),\n",
    "              metrics=['accuracy'])"
   ]
  },
  {
   "cell_type": "code",
   "execution_count": 51,
   "metadata": {
    "id": "xFoh6H2YPa2o"
   },
   "outputs": [],
   "source": [
    "history = model.fit(task1_train_images,validation_data = task1_val_images, epochs=25, verbose=0)"
   ]
  },
  {
   "cell_type": "code",
   "execution_count": 52,
   "metadata": {
    "id": "TU6IR1syO4ap"
   },
   "outputs": [
    {
     "data": {
      "image/png": "[encoded data removed]",
      "text/plain": [
       "<Figure size 720x360 with 2 Axes>"
      ]
     },
     "metadata": {
      "needs_background": "light"
     },
     "output_type": "display_data"
    }
   ],
   "source": [
    "plot_learning_curve(history)"
   ]
  },
  {
   "cell_type": "code",
   "execution_count": 53,
   "metadata": {
    "id": "E24CeF36O5Fp"
   },
   "outputs": [
    {
     "name": "stdout",
     "output_type": "stream",
     "text": [
      "[[2303  168]\n",
      " [ 446  886]]\n",
      "F1 score:  0.8125205139816234\n"
     ]
    }
   ],
   "source": [
    "evaluate_model(model, task1_val_images, 32)"
   ]
  },
  {
   "cell_type": "markdown",
   "metadata": {
    "id": "g5HRbCceQMQw"
   },
   "source": [
    "By default the Adam optimizer gives us a lower result than default SGD, however we can optimize it further. \n",
    "\n",
    "#### Trying higher number of Epochs with a slower learning rate"
   ]
  },
  {
   "cell_type": "code",
   "execution_count": 54,
   "metadata": {
    "id": "wyHTOvSgQRXZ"
   },
   "outputs": [],
   "source": [
    "model = tf.keras.Sequential([\n",
    "    tf.keras.layers.Flatten(input_shape=(27, 27, 3)),\n",
    "    tf.keras.layers.Dense(256, activation='sigmoid'),\n",
    "    tf.keras.layers.Dense(2)\n",
    "])\n",
    "\n",
    "model.compile(optimizer=tf.keras.optimizers.Adam(1e-4),\n",
    "              loss=tf.keras.losses.CategoricalCrossentropy(from_logits=True),\n",
    "              metrics=['accuracy'])"
   ]
  },
  {
   "cell_type": "code",
   "execution_count": 55,
   "metadata": {
    "id": "VFr-wIUFQSlB"
   },
   "outputs": [],
   "source": [
    "history = model.fit(task1_train_images,validation_data = task1_val_images, epochs=50, verbose=0)"
   ]
  },
  {
   "cell_type": "code",
   "execution_count": 56,
   "metadata": {
    "id": "oygE5Ts5QbzK"
   },
   "outputs": [
    {
     "data": {
      "image/png": "[encoded data removed]",
      "text/plain": [
       "<Figure size 720x360 with 2 Axes>"
      ]
     },
     "metadata": {
      "needs_background": "light"
     },
     "output_type": "display_data"
    }
   ],
   "source": [
    "plot_learning_curve(history)"
   ]
  },
  {
   "cell_type": "code",
   "execution_count": 57,
   "metadata": {
    "id": "nRNg5f_pQVPk"
   },
   "outputs": [
    {
     "name": "stdout",
     "output_type": "stream",
     "text": [
      "[[2186  285]\n",
      " [ 311 1021]]\n",
      "F1 score:  0.8270517361149263\n"
     ]
    }
   ],
   "source": [
    "evaluate_model(model, task1_val_images, 32)"
   ]
  },
  {
   "cell_type": "markdown",
   "metadata": {
    "id": "f21RGMR4RP0p"
   },
   "source": [
    "With simple optimization we can get Adam optimizer to give a similar F1 score as SGD for this problem, but even then it requires a much longer training time. So for the isCancerous problem, we will stick to SGD optimizer. "
   ]
  },
  {
   "cell_type": "markdown",
   "metadata": {
    "id": "BDw-S73vaaQg"
   },
   "source": [
    "## A single VGG block\n",
    "\n",
    "VGG is a deep CNN which uses multiple convolution 2D layers, we use a single such block to further our Neural Network"
   ]
  },
  {
   "cell_type": "code",
   "execution_count": 58,
   "metadata": {
    "id": "Wp6qOJ-VaWrl"
   },
   "outputs": [],
   "source": [
    "model = tf.keras.Sequential([\n",
    "    #VGG block 1\n",
    "    tf.keras.layers.Conv2D(27, (3, 3), activation='relu', padding='same', input_shape=(27, 27, 3)),\n",
    "    tf.keras.layers.Conv2D(27, (3, 3), activation='relu', padding='same'),\n",
    "    tf.keras.layers.MaxPooling2D((2, 2)),\n",
    "\n",
    "    tf.keras.layers.Flatten(input_shape=(27, 27, 3)),\n",
    "    tf.keras.layers.Dense(256, activation='sigmoid'),\n",
    "    tf.keras.layers.Dense(2)\n",
    "])\n",
    "model.compile(optimizer='SGD',\n",
    "              loss=tf.keras.losses.CategoricalCrossentropy(from_logits=True),\n",
    "              metrics=['accuracy'])"
   ]
  },
  {
   "cell_type": "code",
   "execution_count": 59,
   "metadata": {
    "id": "-hCBszS1avzr"
   },
   "outputs": [],
   "source": [
    "history = model.fit(task1_train_images, validation_data=task1_val_images, epochs=25, verbose=0)"
   ]
  },
  {
   "cell_type": "code",
   "execution_count": 60,
   "metadata": {
    "id": "aQ2X8hspa1qN"
   },
   "outputs": [
    {
     "data": {
      "image/png": "[encoded data removed]",
      "text/plain": [
       "<Figure size 720x360 with 2 Axes>"
      ]
     },
     "metadata": {
      "needs_background": "light"
     },
     "output_type": "display_data"
    }
   ],
   "source": [
    "plot_learning_curve(history)"
   ]
  },
  {
   "cell_type": "code",
   "execution_count": 61,
   "metadata": {
    "id": "0vgbsZmP7kcl"
   },
   "outputs": [
    {
     "name": "stdout",
     "output_type": "stream",
     "text": [
      "[[2241  230]\n",
      " [ 246 1086]]\n",
      "F1 score:  0.8621176188137454\n"
     ]
    }
   ],
   "source": [
    "evaluate_model(model, task1_val_images, 32)"
   ]
  },
  {
   "cell_type": "markdown",
   "metadata": {
    "id": "UB8bGJgnboGF"
   },
   "source": [
    "## Augmenting images\n",
    "\n",
    "Image augmentation introduces additional images with variations such as rotation, width shift, height shift etc. which introduces additional data for the Neural Network to train on. To evaluate this, we take the single VGG block model and add augmented images"
   ]
  },
  {
   "cell_type": "code",
   "execution_count": 62,
   "metadata": {
    "id": "CNBNh0Bybm-q"
   },
   "outputs": [
    {
     "name": "stdout",
     "output_type": "stream",
     "text": [
      "Found 11407 validated image filenames belonging to 2 classes.\n"
     ]
    }
   ],
   "source": [
    "task1_augmented_train_datagen = ImageDataGenerator(\n",
    "        rescale=1./255,\n",
    "        data_format='channels_last',\n",
    "        rotation_range=40,\n",
    "        width_shift_range=0.2,\n",
    "        height_shift_range=0.2,\n",
    "        shear_range=0.2,\n",
    "        zoom_range=0.2,\n",
    "        horizontal_flip=True,\n",
    "        fill_mode='nearest'\n",
    ")\n",
    "\n",
    "task1_augmented_train_images = task1_augmented_train_datagen.flow_from_dataframe(\n",
    "        dataframe=task1_train_data,\n",
    "        directory=\"./data/patch_images\",\n",
    "        x_col=\"ImageName\",\n",
    "        y_col=\"isCancerous\",\n",
    "        target_size=(27, 27),\n",
    "        batch_size=batch_size,\n",
    "        class_mode='categorical')"
   ]
  },
  {
   "cell_type": "code",
   "execution_count": 63,
   "metadata": {
    "id": "CzLbR1HAcwYF"
   },
   "outputs": [],
   "source": [
    "model = tf.keras.Sequential([\n",
    "    #VGG block 1\n",
    "    tf.keras.layers.Conv2D(27, (3, 3), activation='relu', padding='same', input_shape=(27, 27, 3)),\n",
    "    tf.keras.layers.Conv2D(27, (3, 3), activation='relu', padding='same'),\n",
    "    tf.keras.layers.MaxPooling2D((2, 2)),\n",
    "\n",
    "    tf.keras.layers.Flatten(input_shape=(27, 27, 3)),\n",
    "    tf.keras.layers.Dense(256, activation='sigmoid'),\n",
    "    tf.keras.layers.Dense(2)\n",
    "])\n",
    "model.compile(optimizer='SGD',\n",
    "              loss=tf.keras.losses.CategoricalCrossentropy(from_logits=True),\n",
    "              metrics=['accuracy'])\n",
    "\n",
    "history = model.fit(task1_augmented_train_images, validation_data=task1_val_images, epochs=25, verbose=0)"
   ]
  },
  {
   "cell_type": "code",
   "execution_count": 64,
   "metadata": {
    "id": "yA36PI2PdfL3"
   },
   "outputs": [
    {
     "data": {
      "image/png": "[encoded data removed]",
      "text/plain": [
       "<Figure size 720x360 with 2 Axes>"
      ]
     },
     "metadata": {
      "needs_background": "light"
     },
     "output_type": "display_data"
    }
   ],
   "source": [
    "plot_learning_curve(history)"
   ]
  },
  {
   "cell_type": "code",
   "execution_count": 65,
   "metadata": {
    "id": "NNV6MU6N7ysU"
   },
   "outputs": [
    {
     "name": "stdout",
     "output_type": "stream",
     "text": [
      "[[2261  210]\n",
      " [ 309 1023]]\n",
      "F1 score:  0.8473525279839816\n"
     ]
    }
   ],
   "source": [
    "evaluate_model(model, task1_val_images, 32)"
   ]
  },
  {
   "cell_type": "markdown",
   "metadata": {
    "id": "gbi4tX_N0XJN"
   },
   "source": [
    "Augmenting the images helps fit the training data better but only marginally improves the F1 score (from 0.847 to 0.849) which can be considered within the margin of error."
   ]
  },
  {
   "cell_type": "markdown",
   "metadata": {
    "id": "PdLZ7D7sdu7Y"
   },
   "source": [
    "## Model with two VGG Blocks\n",
    "\n",
    "Expanding the idea of a single VGG block, we setup another block. "
   ]
  },
  {
   "cell_type": "code",
   "execution_count": 66,
   "metadata": {
    "id": "XQMQug7uduGn"
   },
   "outputs": [],
   "source": [
    "model_VGG2 = tf.keras.Sequential([\n",
    "    #VGG block 1\n",
    "    tf.keras.layers.Conv2D(27, (3, 3), activation='relu', padding='same', input_shape=(27, 27, 3)),\n",
    "    tf.keras.layers.Conv2D(27, (3, 3), activation='relu', padding='same'),\n",
    "    tf.keras.layers.MaxPooling2D((2, 2)),\n",
    "    \n",
    "    #VGG Block 2\n",
    "    tf.keras.layers.Conv2D(54, (3, 3), activation='relu', padding='same'),\n",
    "    tf.keras.layers.Conv2D(54, (3, 3), activation='relu', padding='same'),\n",
    "    tf.keras.layers.MaxPooling2D((2, 2)),\n",
    "\n",
    "    tf.keras.layers.Flatten(input_shape=(27, 27, 3)),\n",
    "    tf.keras.layers.Dense(256, activation='sigmoid'),\n",
    "    tf.keras.layers.Dense(2)\n",
    "])\n",
    "model_VGG2.compile(optimizer='SGD',\n",
    "              loss=tf.keras.losses.CategoricalCrossentropy(from_logits=True),\n",
    "              metrics=['accuracy'])"
   ]
  },
  {
   "cell_type": "code",
   "execution_count": 67,
   "metadata": {
    "id": "c4eTit2IeDaX"
   },
   "outputs": [],
   "source": [
    "history = model_VGG2.fit(task1_train_images, validation_data=task1_val_images, epochs=25, verbose=0)"
   ]
  },
  {
   "cell_type": "code",
   "execution_count": 68,
   "metadata": {
    "id": "poNEprNleFm-"
   },
   "outputs": [
    {
     "data": {
      "image/png": "[encoded data removed]",
      "text/plain": [
       "<Figure size 720x360 with 2 Axes>"
      ]
     },
     "metadata": {
      "needs_background": "light"
     },
     "output_type": "display_data"
    }
   ],
   "source": [
    "plot_learning_curve(history)"
   ]
  },
  {
   "cell_type": "code",
   "execution_count": 69,
   "metadata": {
    "id": "So4XmgkO9JqW"
   },
   "outputs": [
    {
     "name": "stdout",
     "output_type": "stream",
     "text": [
      "[[2207  264]\n",
      " [ 198 1134]]\n",
      "F1 score:  0.8680097179276834\n"
     ]
    }
   ],
   "source": [
    "evaluate_model(model_VGG2, task1_val_images, 32)"
   ]
  },
  {
   "cell_type": "markdown",
   "metadata": {
    "id": "dMxNYItmyRlz"
   },
   "source": [
    "A model with two VGG blocks fits the training data much better with no underfitting or overfitting, and it has a 0.006 improvement in F1 score over the model with single VGG block. "
   ]
  },
  {
   "cell_type": "markdown",
   "metadata": {
    "id": "UagqxstW5stJ"
   },
   "source": [
    "### Two VGG Blocks + Augmented images"
   ]
  },
  {
   "cell_type": "code",
   "execution_count": 70,
   "metadata": {
    "id": "pyS6UfSW5omH"
   },
   "outputs": [],
   "source": [
    "model_VGG2_augmented = tf.keras.Sequential([\n",
    "    #VGG block 1\n",
    "    tf.keras.layers.Conv2D(27, (3, 3), activation='relu', padding='same', input_shape=(27, 27, 3)),\n",
    "    tf.keras.layers.Conv2D(27, (3, 3), activation='relu', padding='same'),\n",
    "    tf.keras.layers.MaxPooling2D((2, 2)),\n",
    "    \n",
    "    #VGG Block 2\n",
    "    tf.keras.layers.Conv2D(54, (3, 3), activation='relu', padding='same'),\n",
    "    tf.keras.layers.Conv2D(54, (3, 3), activation='relu', padding='same'),\n",
    "    tf.keras.layers.MaxPooling2D((2, 2)),\n",
    "\n",
    "    tf.keras.layers.Flatten(input_shape=(27, 27, 3)),\n",
    "    tf.keras.layers.Dense(256, activation='sigmoid'),\n",
    "    tf.keras.layers.Dense(2)\n",
    "])\n",
    "\n",
    "model_VGG2_augmented.compile(optimizer='SGD',\n",
    "              loss=tf.keras.losses.CategoricalCrossentropy(from_logits=True),\n",
    "              metrics=['accuracy'])\n",
    "\n",
    "history = model_VGG2_augmented.fit(task1_augmented_train_images, validation_data=task1_val_images, epochs=25, verbose=0)"
   ]
  },
  {
   "cell_type": "code",
   "execution_count": 71,
   "metadata": {
    "id": "nDF5fb5D5w3J"
   },
   "outputs": [
    {
     "data": {
      "image/png": "[encoded data removed]",
      "text/plain": [
       "<Figure size 720x360 with 2 Axes>"
      ]
     },
     "metadata": {
      "needs_background": "light"
     },
     "output_type": "display_data"
    }
   ],
   "source": [
    "plot_learning_curve(history)"
   ]
  },
  {
   "cell_type": "code",
   "execution_count": 72,
   "metadata": {
    "id": "L8vRs0TB5yKJ"
   },
   "outputs": [
    {
     "name": "stdout",
     "output_type": "stream",
     "text": [
      "[[2228  243]\n",
      " [ 241 1091]]\n",
      "F1 score:  0.8602394525756945\n"
     ]
    }
   ],
   "source": [
    "evaluate_model(model_VGG2_augmented, task1_val_images, 32)"
   ]
  },
  {
   "cell_type": "markdown",
   "metadata": {
    "id": "TdGTjC-A0-7V"
   },
   "source": [
    "Similar to augmenting with a single VGG block, a model with two VGG blocks has an improvement of 0.003 when augmenting images. "
   ]
  },
  {
   "cell_type": "markdown",
   "metadata": {
    "id": "qN8oo8iw1Mmu"
   },
   "source": [
    "## Model with three VGG blocks"
   ]
  },
  {
   "cell_type": "code",
   "execution_count": 73,
   "metadata": {
    "id": "7cJlKkRd1MGn"
   },
   "outputs": [],
   "source": [
    "model_VGG2_3 = tf.keras.Sequential([\n",
    "    #VGG block 1\n",
    "    tf.keras.layers.Conv2D(27, (3, 3), activation='relu', padding='same', input_shape=(27, 27, 3)),\n",
    "    tf.keras.layers.Conv2D(27, (3, 3), activation='relu', padding='same'),\n",
    "    tf.keras.layers.MaxPooling2D((2, 2)),\n",
    "    \n",
    "    #VGG Block 2\n",
    "    tf.keras.layers.Conv2D(54, (3, 3), activation='relu', padding='same'),\n",
    "    tf.keras.layers.Conv2D(54, (3, 3), activation='relu', padding='same'),\n",
    "    tf.keras.layers.MaxPooling2D((2, 2)),\n",
    "\n",
    "    #VGG Block 3\n",
    "    tf.keras.layers.Conv2D(108, (3, 3), activation='relu', padding='same'),\n",
    "    tf.keras.layers.Conv2D(108, (3, 3), activation='relu', padding='same'),\n",
    "    tf.keras.layers.MaxPooling2D((2, 2)),\n",
    "\n",
    "    tf.keras.layers.Flatten(input_shape=(27, 27, 3)),\n",
    "    tf.keras.layers.Dense(256, activation='sigmoid'),\n",
    "    tf.keras.layers.Dense(2)\n",
    "])\n",
    "\n",
    "model_VGG2_3.compile(optimizer='SGD',\n",
    "              loss=tf.keras.losses.CategoricalCrossentropy(from_logits=True),\n",
    "              metrics=['accuracy'])"
   ]
  },
  {
   "cell_type": "code",
   "execution_count": 74,
   "metadata": {
    "id": "IDLG7rWf1Wtr"
   },
   "outputs": [],
   "source": [
    "history = model_VGG2_3.fit(task1_train_images, validation_data=task1_val_images, epochs=25, verbose=0)"
   ]
  },
  {
   "cell_type": "code",
   "execution_count": 75,
   "metadata": {
    "id": "3BUDhUAi1X_z"
   },
   "outputs": [
    {
     "data": {
      "image/png": "[encoded data removed]",
      "text/plain": [
       "<Figure size 720x360 with 2 Axes>"
      ]
     },
     "metadata": {
      "needs_background": "light"
     },
     "output_type": "display_data"
    }
   ],
   "source": [
    "plot_learning_curve(history)"
   ]
  },
  {
   "cell_type": "code",
   "execution_count": 76,
   "metadata": {
    "id": "lBX70L0D1agA"
   },
   "outputs": [
    {
     "name": "stdout",
     "output_type": "stream",
     "text": [
      "[[2308  163]\n",
      " [ 294 1038]]\n",
      "F1 score:  0.864748380708377\n"
     ]
    }
   ],
   "source": [
    "evaluate_model(model_VGG2_3, task1_val_images, 32)"
   ]
  },
  {
   "cell_type": "markdown",
   "metadata": {
    "id": "-sHUHgr_2wtL"
   },
   "source": [
    "The model with three VGG blocks showed a significant improvement over two blocks, increasing the score to 0.867 from 0.856. "
   ]
  },
  {
   "cell_type": "markdown",
   "metadata": {
    "id": "gGhsAfLJ3CXv"
   },
   "source": [
    "### Three VGG Blocks + Augmentation"
   ]
  },
  {
   "cell_type": "code",
   "execution_count": 77,
   "metadata": {
    "colab": {
     "background_save": true
    },
    "id": "7JkrLZj-3Ewz"
   },
   "outputs": [],
   "source": [
    "model_VGG2_3_augmented = tf.keras.Sequential([\n",
    "    #VGG block 1\n",
    "    tf.keras.layers.Conv2D(27, (3, 3), activation='relu', padding='same', input_shape=(27, 27, 3)),\n",
    "    tf.keras.layers.Conv2D(27, (3, 3), activation='relu', padding='same'),\n",
    "    tf.keras.layers.MaxPooling2D((2, 2)),\n",
    "    \n",
    "    #VGG Block 2\n",
    "    tf.keras.layers.Conv2D(54, (3, 3), activation='relu', padding='same'),\n",
    "    tf.keras.layers.Conv2D(54, (3, 3), activation='relu', padding='same'),\n",
    "    tf.keras.layers.MaxPooling2D((2, 2)),\n",
    "\n",
    "    #VGG Block 3\n",
    "    tf.keras.layers.Conv2D(108, (3, 3), activation='relu', padding='same'),\n",
    "    tf.keras.layers.Conv2D(108, (3, 3), activation='relu', padding='same'),\n",
    "    tf.keras.layers.MaxPooling2D((2, 2)),\n",
    "\n",
    "    tf.keras.layers.Flatten(input_shape=(27, 27, 3)),\n",
    "    tf.keras.layers.Dense(256, activation='sigmoid'),\n",
    "    tf.keras.layers.Dense(2)\n",
    "])\n",
    "\n",
    "model_VGG2_3_augmented.compile(optimizer='SGD',\n",
    "              loss=tf.keras.losses.CategoricalCrossentropy(from_logits=True),\n",
    "              metrics=['accuracy'])\n",
    "\n",
    "history = model_VGG2_3_augmented.fit(task1_augmented_train_images, validation_data=task1_val_images, epochs=25, verbose=0)"
   ]
  },
  {
   "cell_type": "code",
   "execution_count": 78,
   "metadata": {
    "colab": {
     "background_save": true
    },
    "id": "apB_6rpl3PT3"
   },
   "outputs": [
    {
     "data": {
      "image/png": "[encoded data removed]",
      "text/plain": [
       "<Figure size 720x360 with 2 Axes>"
      ]
     },
     "metadata": {
      "needs_background": "light"
     },
     "output_type": "display_data"
    }
   ],
   "source": [
    "plot_learning_curve(history)"
   ]
  },
  {
   "cell_type": "code",
   "execution_count": 79,
   "metadata": {
    "colab": {
     "background_save": true
    },
    "id": "x8aF-LPq3QBt"
   },
   "outputs": [
    {
     "name": "stdout",
     "output_type": "stream",
     "text": [
      "[[2308  163]\n",
      " [ 294 1038]]\n",
      "F1 score:  0.864748380708377\n"
     ]
    }
   ],
   "source": [
    "evaluate_model(model_VGG2_3, task1_val_images, 32)"
   ]
  },
  {
   "cell_type": "markdown",
   "metadata": {
    "id": "CnrpyYQF2ZkM"
   },
   "source": [
    "## Model with four VGG Blocks"
   ]
  },
  {
   "cell_type": "code",
   "execution_count": 80,
   "metadata": {
    "colab": {
     "background_save": true
    },
    "id": "p1Aek-0r2Gzx"
   },
   "outputs": [],
   "source": [
    "model_VGG2_4 = tf.keras.Sequential([\n",
    "    #VGG block 1\n",
    "    tf.keras.layers.Conv2D(27, (3, 3), activation='relu', padding='same', input_shape=(27, 27, 3)),\n",
    "    tf.keras.layers.Conv2D(27, (3, 3), activation='relu', padding='same'),\n",
    "    tf.keras.layers.MaxPooling2D((2, 2)),\n",
    "    \n",
    "    #VGG Block 2\n",
    "    tf.keras.layers.Conv2D(54, (3, 3), activation='relu', padding='same'),\n",
    "    tf.keras.layers.Conv2D(54, (3, 3), activation='relu', padding='same'),\n",
    "    tf.keras.layers.MaxPooling2D((2, 2)),\n",
    "\n",
    "    #VGG Block 3\n",
    "    tf.keras.layers.Conv2D(108, (3, 3), activation='relu', padding='same'),\n",
    "    tf.keras.layers.Conv2D(108, (3, 3), activation='relu', padding='same'),\n",
    "    tf.keras.layers.MaxPooling2D((2, 2)),\n",
    "\n",
    "    #VGG Block 4\n",
    "    tf.keras.layers.Conv2D(216, (3, 3), activation='relu', padding='same'),\n",
    "    tf.keras.layers.Conv2D(216, (3, 3), activation='relu', padding='same'),\n",
    "    tf.keras.layers.MaxPooling2D((2, 2)),\n",
    "\n",
    "    tf.keras.layers.Flatten(input_shape=(27, 27, 3)),\n",
    "    tf.keras.layers.Dense(256, activation='sigmoid'),\n",
    "    tf.keras.layers.Dense(2)\n",
    "])\n",
    "\n",
    "model_VGG2_4.compile(optimizer='SGD',\n",
    "              loss=tf.keras.losses.CategoricalCrossentropy(from_logits=True),\n",
    "              metrics=['accuracy'])"
   ]
  },
  {
   "cell_type": "code",
   "execution_count": 81,
   "metadata": {
    "colab": {
     "background_save": true
    },
    "id": "jmV_BhcU2Ls-"
   },
   "outputs": [],
   "source": [
    "history = model_VGG2_4.fit(task1_train_images, validation_data=task1_val_images, epochs=25, verbose=0)"
   ]
  },
  {
   "cell_type": "code",
   "execution_count": 82,
   "metadata": {
    "colab": {
     "background_save": true
    },
    "id": "KdDUuQwv2S2G"
   },
   "outputs": [
    {
     "data": {
      "image/png": "[encoded data removed]",
      "text/plain": [
       "<Figure size 720x360 with 2 Axes>"
      ]
     },
     "metadata": {
      "needs_background": "light"
     },
     "output_type": "display_data"
    }
   ],
   "source": [
    "plot_learning_curve(history)"
   ]
  },
  {
   "cell_type": "code",
   "execution_count": 83,
   "metadata": {
    "colab": {
     "background_save": true
    },
    "id": "u-ucoPAk2UcN"
   },
   "outputs": [
    {
     "name": "stdout",
     "output_type": "stream",
     "text": [
      "[[2329  142]\n",
      " [ 301 1031]]\n",
      "F1 score:  0.8681539880442994\n"
     ]
    }
   ],
   "source": [
    "evaluate_model(model_VGG2_4, task1_val_images, 32)"
   ]
  },
  {
   "cell_type": "markdown",
   "metadata": {
    "id": "Al6jza243Td_"
   },
   "source": [
    "The score is same as the one for three VGG blocks, hence we will stop at this point. "
   ]
  },
  {
   "cell_type": "markdown",
   "metadata": {
    "id": "9Q79tPLNtUaW"
   },
   "source": [
    "## Ultimate judgement for Task 1\n",
    "\n",
    "For the task of classifing cells based on whether they're cancerous or not (`isCancerous` field), we propose using a CNN model based on the VGG neural network, having three blocks which scale the images to 108 x 108. Image augmentation doesn't improve the score as the model is already able to fit the data well, this model is represented by `model_VGG_3`."
   ]
  },
  {
   "cell_type": "code",
   "execution_count": 84,
   "metadata": {
    "colab": {
     "background_save": true
    },
    "id": "jOdxP5UZ5Yhg"
   },
   "outputs": [
    {
     "name": "stdout",
     "output_type": "stream",
     "text": [
      "[[3078  219]\n",
      " [ 397 1376]]\n",
      "F1 score:  0.8630696749084186\n"
     ]
    }
   ],
   "source": [
    "evaluate_model(model_VGG2_3, task1_test_images, 32)"
   ]
  },
  {
   "cell_type": "markdown",
   "metadata": {
    "id": "BwIbC_NKkMMD"
   },
   "source": [
    "# Task 2: Cell-type classification\n",
    "\n",
    "For the second task, we have to classify the images based on the four possible cell-types: Epithelial, Inflamattory, Fibroblast, Miscellaneous. "
   ]
  },
  {
   "cell_type": "markdown",
   "metadata": {
    "id": "qFcvP0n6qK7K"
   },
   "source": [
    "## Train Test split for cell-type classification\n",
    "\n",
    "Similar to Task 1, we split the data into three parts: Train, Test and Validation. "
   ]
  },
  {
   "cell_type": "code",
   "execution_count": 85,
   "metadata": {
    "colab": {
     "background_save": true
    },
    "id": "fbJdxd1ElGYB"
   },
   "outputs": [],
   "source": [
    "cell_type_data_frame = main_data_frame[['ImageName', 'cellType']]\n",
    "task2_train_data, task2_test_data = train_test_split(cell_type_data_frame, test_size=0.25, random_state=42)\n",
    "task2_train_data, task2_val_data = train_test_split(task2_train_data, test_size=0.25, random_state=42)"
   ]
  },
  {
   "cell_type": "code",
   "execution_count": 86,
   "metadata": {
    "colab": {
     "background_save": true
    },
    "id": "uc28zQEKkO-B"
   },
   "outputs": [
    {
     "name": "stdout",
     "output_type": "stream",
     "text": [
      "Found 5566 validated image filenames belonging to 4 classes."
     ]
    },
    {
     "name": "stderr",
     "output_type": "stream",
     "text": [
      "<ipython-input-86-30d63fdba53a>:5: SettingWithCopyWarning: \n",
      "A value is trying to be set on a copy of a slice from a DataFrame.\n",
      "Try using .loc[row_indexer,col_indexer] = value instead\n",
      "\n",
      "See the caveats in the documentation: https://pandas.pydata.org/pandas-docs/stable/user_guide/indexing.html#returning-a-view-versus-a-copy\n",
      "  task2_test_data['cellType'] = task2_test_data['cellType'].astype('str')\n"
     ]
    },
    {
     "name": "stdout",
     "output_type": "stream",
     "text": [
      "\n",
      "Found 2474 validated image filenames belonging to 4 classes.\n",
      "Found 1856 validated image filenames belonging to 4 classes.\n"
     ]
    }
   ],
   "source": [
    "task2_train_datagenerator = ImageDataGenerator(rescale=1./255, data_format='channels_last')\n",
    "task2_test_datagenerator = ImageDataGenerator(rescale=1./255, data_format='channels_last')\n",
    "task2_val_datagenerator = ImageDataGenerator(rescale=1./255, data_format='channels_last')\n",
    "task2_train_data['cellType'] = task2_train_data['cellType'].astype('str')\n",
    "task2_test_data['cellType'] = task2_test_data['cellType'].astype('str')\n",
    "task2_val_data['cellType'] = task2_val_data['cellType'].astype('str')\n",
    "\n",
    "batch_size = 32\n",
    "\n",
    "task2_train_images = task2_train_datagenerator.flow_from_dataframe(\n",
    "        dataframe=task2_train_data,\n",
    "        directory=\"./data/patch_images\",\n",
    "        x_col=\"ImageName\",\n",
    "        y_col=\"cellType\",\n",
    "        target_size=(27, 27),\n",
    "        batch_size=batch_size,\n",
    "        class_mode='categorical')\n",
    "\n",
    "task2_test_images = task2_test_datagenerator.flow_from_dataframe(\n",
    "        dataframe=task2_test_data,\n",
    "        directory=\"./data/patch_images\",\n",
    "        x_col= \"ImageName\",\n",
    "        y_col=\"cellType\",\n",
    "        target_size=(27, 27),\n",
    "        batch_size=batch_size,\n",
    "        class_mode='categorical')\n",
    "\n",
    "task2_val_images = task2_val_datagenerator.flow_from_dataframe(\n",
    "        dataframe=task2_val_data,\n",
    "        directory=\"./data/patch_images\",\n",
    "        x_col= \"ImageName\",\n",
    "        y_col=\"cellType\",\n",
    "        target_size=(27, 27),\n",
    "        batch_size=batch_size,\n",
    "        class_mode='categorical')"
   ]
  },
  {
   "cell_type": "markdown",
   "metadata": {
    "id": "3hj6kXV2mJA_"
   },
   "source": [
    "## Baseline model: CNN based on three VGG Blocks\n",
    "\n",
    "As we saw in our exploration for Task 1, a model with three VGG blocks works best in the given data which is what we're using as our starting point for Task 2. One change we make is we change the `sigmoid` activation to `relu` as `sigmoid` is preferred for binary classification. "
   ]
  },
  {
   "cell_type": "code",
   "execution_count": 87,
   "metadata": {
    "colab": {
     "background_save": true
    },
    "id": "jbcd_gP3mKdi"
   },
   "outputs": [],
   "source": [
    "model = tf.keras.Sequential([\n",
    "    #VGG block 1\n",
    "    tf.keras.layers.Conv2D(27, (3, 3), activation='relu', padding='same', input_shape=(27, 27, 3)),\n",
    "    tf.keras.layers.Conv2D(27, (3, 3), activation='relu', padding='same'),\n",
    "    tf.keras.layers.MaxPooling2D((2, 2)),\n",
    "    \n",
    "    #VGG Block 2\n",
    "    tf.keras.layers.Conv2D(54, (3, 3), activation='relu', padding='same'),\n",
    "    tf.keras.layers.Conv2D(54, (3, 3), activation='relu', padding='same'),\n",
    "    tf.keras.layers.MaxPooling2D((2, 2)),\n",
    "\n",
    "    #VGG Block 3\n",
    "    tf.keras.layers.Conv2D(108, (3, 3), activation='relu', padding='same'),\n",
    "    tf.keras.layers.Conv2D(108, (3, 3), activation='relu', padding='same'),\n",
    "    tf.keras.layers.MaxPooling2D((2, 2)),\n",
    "\n",
    "    tf.keras.layers.Flatten(input_shape=(27, 27, 3)),\n",
    "    tf.keras.layers.Dense(256, activation='sigmoid'),\n",
    "    tf.keras.layers.Dense(4)\n",
    "])\n",
    "\n",
    "model.compile(optimizer='SGD',\n",
    "              loss=tf.keras.losses.CategoricalCrossentropy(from_logits=True),\n",
    "              metrics=['accuracy'])"
   ]
  },
  {
   "cell_type": "code",
   "execution_count": 88,
   "metadata": {
    "colab": {
     "background_save": true
    },
    "id": "Jkj8LVWZmQl5"
   },
   "outputs": [],
   "source": [
    "history = model.fit(task2_train_images, validation_data=task2_val_images, epochs=25, verbose=0)"
   ]
  },
  {
   "cell_type": "code",
   "execution_count": 89,
   "metadata": {
    "colab": {
     "background_save": true
    },
    "id": "EsZr8FuPpk5z"
   },
   "outputs": [
    {
     "data": {
      "image/png": "[encoded data removed]",
      "text/plain": [
       "<Figure size 720x360 with 2 Axes>"
      ]
     },
     "metadata": {
      "needs_background": "light"
     },
     "output_type": "display_data"
    }
   ],
   "source": [
    "plot_learning_curve(history)"
   ]
  },
  {
   "cell_type": "code",
   "execution_count": 90,
   "metadata": {
    "colab": {
     "background_save": true
    },
    "id": "HRqVASm560Vp"
   },
   "outputs": [
    {
     "name": "stdout",
     "output_type": "stream",
     "text": [
      "[[233  63  23  23]\n",
      " [ 22 429  21   8]\n",
      " [ 83  77 632   4]\n",
      " [ 70 108  25  35]]\n",
      "F1 score:  0.6086336179338588\n"
     ]
    }
   ],
   "source": [
    "evaluate_model(model, task2_val_images, 32)"
   ]
  },
  {
   "cell_type": "markdown",
   "metadata": {
    "id": "Q-e3jouF9Hfl"
   },
   "source": [
    "### Tuning the baseline model"
   ]
  },
  {
   "cell_type": "markdown",
   "metadata": {
    "id": "r-3TE_AO9ff2"
   },
   "source": [
    "#### Image augmentation"
   ]
  },
  {
   "cell_type": "code",
   "execution_count": 91,
   "metadata": {
    "colab": {
     "background_save": true
    },
    "id": "n0Npl3xc9h4c"
   },
   "outputs": [
    {
     "name": "stdout",
     "output_type": "stream",
     "text": [
      "Found 5566 validated image filenames belonging to 4 classes.\n"
     ]
    }
   ],
   "source": [
    "task2_augmented_train_datagen = ImageDataGenerator(\n",
    "        rescale=1./255,\n",
    "        data_format='channels_last',\n",
    "        rotation_range=40,\n",
    "        width_shift_range=0.2,\n",
    "        height_shift_range=0.2,\n",
    "        shear_range=0.2,\n",
    "        zoom_range=0.2,\n",
    "        horizontal_flip=True,\n",
    "        fill_mode='nearest'\n",
    ")\n",
    "\n",
    "task2_augmented_train_images = task2_augmented_train_datagen.flow_from_dataframe(\n",
    "        dataframe=task2_train_data,\n",
    "        directory=\"./data/patch_images\",\n",
    "        x_col=\"ImageName\",\n",
    "        y_col=\"cellType\",\n",
    "        target_size=(27, 27),\n",
    "        batch_size=batch_size,\n",
    "        class_mode='categorical')"
   ]
  },
  {
   "cell_type": "code",
   "execution_count": 92,
   "metadata": {
    "colab": {
     "background_save": true
    },
    "id": "jKnG1lfM9vVw"
   },
   "outputs": [],
   "source": [
    "model = tf.keras.Sequential([\n",
    "    #VGG block 1\n",
    "    tf.keras.layers.Conv2D(27, (3, 3), activation='relu', padding='same', input_shape=(27, 27, 3)),\n",
    "    tf.keras.layers.Conv2D(27, (3, 3), activation='relu', padding='same'),\n",
    "    tf.keras.layers.MaxPooling2D((2, 2)),\n",
    "\n",
    "    #VGG Block 2\n",
    "    tf.keras.layers.Conv2D(54, (3, 3), activation='relu', padding='same'),\n",
    "    tf.keras.layers.Conv2D(54, (3, 3), activation='relu', padding='same'),\n",
    "    tf.keras.layers.MaxPooling2D((2, 2)),\n",
    "\n",
    "    #VGG Block 3\n",
    "    tf.keras.layers.Conv2D(108, (3, 3), activation='relu', padding='same'),\n",
    "    tf.keras.layers.Conv2D(108, (3, 3), activation='relu', padding='same'),\n",
    "    tf.keras.layers.MaxPooling2D((2, 2)),\n",
    "\n",
    "    tf.keras.layers.Flatten(input_shape=(27, 27, 3)),\n",
    "    tf.keras.layers.Dense(256, activation='relu'),\n",
    "    tf.keras.layers.Dense(4)\n",
    "])\n",
    "\n",
    "model.compile(optimizer=\"SGD\",\n",
    "              loss=tf.keras.losses.CategoricalCrossentropy(from_logits=True),\n",
    "              metrics=['accuracy'])\n",
    "\n",
    "history = model.fit(task2_augmented_train_images, validation_data=task2_val_images, epochs=25, verbose=0)"
   ]
  },
  {
   "cell_type": "code",
   "execution_count": 93,
   "metadata": {
    "colab": {
     "background_save": true
    },
    "id": "hseUn4YZ-O49"
   },
   "outputs": [
    {
     "data": {
      "image/png": "[encoded data removed]",
      "text/plain": [
       "<Figure size 720x360 with 2 Axes>"
      ]
     },
     "metadata": {
      "needs_background": "light"
     },
     "output_type": "display_data"
    }
   ],
   "source": [
    "plot_learning_curve(history)"
   ]
  },
  {
   "cell_type": "code",
   "execution_count": 94,
   "metadata": {
    "colab": {
     "background_save": true
    },
    "id": "AmiFqo9Q-Sd2"
   },
   "outputs": [
    {
     "name": "stdout",
     "output_type": "stream",
     "text": [
      "[[193  82  38  29]\n",
      " [ 11 438  16  15]\n",
      " [ 28  95 671   2]\n",
      " [ 46 127  26  39]]\n",
      "F1 score:  0.6121024448670318\n"
     ]
    }
   ],
   "source": [
    "evaluate_model(model, task2_val_images, 32)"
   ]
  },
  {
   "cell_type": "markdown",
   "metadata": {
    "id": "kGrhUeBO_usm"
   },
   "source": [
    "#### Reducing number of hidden nodes"
   ]
  },
  {
   "cell_type": "code",
   "execution_count": 95,
   "metadata": {
    "colab": {
     "background_save": true
    },
    "id": "Zxrjg9Rc_xSN"
   },
   "outputs": [],
   "source": [
    "model = tf.keras.Sequential([\n",
    "    #VGG block 1\n",
    "    tf.keras.layers.Conv2D(27, (3, 3), activation='relu', padding='same', input_shape=(27, 27, 3)),\n",
    "    tf.keras.layers.Conv2D(27, (3, 3), activation='relu', padding='same'),\n",
    "    tf.keras.layers.MaxPooling2D((2, 2)),\n",
    "\n",
    "    #VGG Block 2\n",
    "    tf.keras.layers.Conv2D(54, (3, 3), activation='relu', padding='same'),\n",
    "    tf.keras.layers.Conv2D(54, (3, 3), activation='relu', padding='same'),\n",
    "    tf.keras.layers.MaxPooling2D((2, 2)),\n",
    "\n",
    "    #VGG Block 3\n",
    "    tf.keras.layers.Conv2D(108, (3, 3), activation='relu', padding='same'),\n",
    "    tf.keras.layers.Conv2D(108, (3, 3), activation='relu', padding='same'),\n",
    "    tf.keras.layers.MaxPooling2D((2, 2)),\n",
    "\n",
    "    tf.keras.layers.Flatten(input_shape=(27, 27, 3)),\n",
    "    tf.keras.layers.Dense(128, activation='relu'),\n",
    "    tf.keras.layers.Dense(4)\n",
    "])\n",
    "\n",
    "model.compile(optimizer=\"SGD\",\n",
    "              loss=tf.keras.losses.CategoricalCrossentropy(from_logits=True),\n",
    "              metrics=['accuracy'])\n",
    "\n",
    "history = model.fit(task2_train_images, validation_data=task2_val_images, epochs=25, verbose=0)"
   ]
  },
  {
   "cell_type": "code",
   "execution_count": 96,
   "metadata": {
    "colab": {
     "background_save": true
    },
    "id": "z3Dg7rlnAGy0"
   },
   "outputs": [
    {
     "data": {
      "image/png": "[encoded data removed]",
      "text/plain": [
       "<Figure size 720x360 with 2 Axes>"
      ]
     },
     "metadata": {
      "needs_background": "light"
     },
     "output_type": "display_data"
    }
   ],
   "source": [
    "plot_learning_curve(history)"
   ]
  },
  {
   "cell_type": "code",
   "execution_count": 97,
   "metadata": {
    "colab": {
     "background_save": true
    },
    "id": "cGDzHo8oAHYB"
   },
   "outputs": [
    {
     "name": "stdout",
     "output_type": "stream",
     "text": [
      "[[239  55  13  35]\n",
      " [ 16 443   8  13]\n",
      " [101  92 593  10]\n",
      " [ 57 115  17  49]]\n",
      "F1 score:  0.6239910260846694\n"
     ]
    }
   ],
   "source": [
    "evaluate_model(model, task2_val_images, 32)"
   ]
  },
  {
   "cell_type": "markdown",
   "metadata": {
    "id": "eS9QvXdi-5gE"
   },
   "source": [
    "#### Dropout"
   ]
  },
  {
   "cell_type": "code",
   "execution_count": 98,
   "metadata": {
    "colab": {
     "background_save": true
    },
    "id": "D2QYNX1M_IM4"
   },
   "outputs": [],
   "source": [
    "model = tf.keras.Sequential([\n",
    "    #VGG block 1\n",
    "    tf.keras.layers.Conv2D(27, (3, 3), activation='relu', padding='same', input_shape=(27, 27, 3)),\n",
    "    tf.keras.layers.Conv2D(27, (3, 3), activation='relu', padding='same'),\n",
    "    tf.keras.layers.MaxPooling2D((2, 2)),\n",
    "\n",
    "    #VGG Block 2\n",
    "    tf.keras.layers.Conv2D(54, (3, 3), activation='relu', padding='same'),\n",
    "    tf.keras.layers.Conv2D(54, (3, 3), activation='relu', padding='same'),\n",
    "    tf.keras.layers.MaxPooling2D((2, 2)),\n",
    "\n",
    "    #VGG Block 3\n",
    "    tf.keras.layers.Conv2D(108, (3, 3), activation='relu', padding='same'),\n",
    "    tf.keras.layers.Conv2D(108, (3, 3), activation='relu', padding='same'),\n",
    "    tf.keras.layers.MaxPooling2D((2, 2)),\n",
    "\n",
    "    tf.keras.layers.Dropout(0.2),\n",
    "\n",
    "    tf.keras.layers.Flatten(input_shape=(27, 27, 3)),\n",
    "    tf.keras.layers.Dense(256, activation='relu'),\n",
    "    tf.keras.layers.Dense(4)\n",
    "])\n",
    "\n",
    "model.compile(optimizer=\"SGD\",\n",
    "              loss=tf.keras.losses.CategoricalCrossentropy(from_logits=True),\n",
    "              metrics=['accuracy'])\n",
    "\n",
    "history = model.fit(task2_augmented_train_images, validation_data=task2_val_images, epochs=25, verbose=0)"
   ]
  },
  {
   "cell_type": "code",
   "execution_count": 99,
   "metadata": {
    "colab": {
     "background_save": true
    },
    "id": "k9dNsTEk_OW5"
   },
   "outputs": [
    {
     "data": {
      "image/png": "[encoded data removed]",
      "text/plain": [
       "<Figure size 720x360 with 2 Axes>"
      ]
     },
     "metadata": {
      "needs_background": "light"
     },
     "output_type": "display_data"
    }
   ],
   "source": [
    "plot_learning_curve(history)"
   ]
  },
  {
   "cell_type": "code",
   "execution_count": 100,
   "metadata": {
    "colab": {
     "background_save": true
    },
    "id": "KgWbir3D_S2C"
   },
   "outputs": [
    {
     "name": "stdout",
     "output_type": "stream",
     "text": [
      "[[168  84  83   7]\n",
      " [ 19 397  63   1]\n",
      " [  8  54 734   0]\n",
      " [ 51 128  42  17]]\n",
      "F1 score:  0.5624628152087804\n"
     ]
    }
   ],
   "source": [
    "evaluate_model(model, task2_val_images, 32)"
   ]
  },
  {
   "cell_type": "markdown",
   "metadata": {
    "id": "St44KzTPAoDO"
   },
   "source": [
    "#### Adam Optimizer\n",
    "\n",
    "Similar to Task 1, we try the Adam optimizer with a slower learning rate and higher number of epochs to see if it gives us an improvement"
   ]
  },
  {
   "cell_type": "code",
   "execution_count": 101,
   "metadata": {
    "colab": {
     "background_save": true
    },
    "id": "UBuwm63TAwDv"
   },
   "outputs": [],
   "source": [
    "model_cell_type_adam = tf.keras.Sequential([\n",
    "    #VGG block 1\n",
    "    tf.keras.layers.Conv2D(27, (3, 3), activation='relu', padding='same', input_shape=(27, 27, 3)),\n",
    "    tf.keras.layers.Conv2D(27, (3, 3), activation='relu', padding='same'),\n",
    "    tf.keras.layers.MaxPooling2D((2, 2)),\n",
    "\n",
    "    #VGG Block 2\n",
    "    tf.keras.layers.Conv2D(54, (3, 3), activation='relu', padding='same'),\n",
    "    tf.keras.layers.Conv2D(54, (3, 3), activation='relu', padding='same'),\n",
    "    tf.keras.layers.MaxPooling2D((2, 2)),\n",
    "\n",
    "    #VGG Block 3\n",
    "    tf.keras.layers.Conv2D(108, (3, 3), activation='relu', padding='same'),\n",
    "    tf.keras.layers.Conv2D(108, (3, 3), activation='relu', padding='same'),\n",
    "    tf.keras.layers.MaxPooling2D((2, 2)),\n",
    "\n",
    "    tf.keras.layers.Flatten(input_shape=(27, 27, 3)),\n",
    "    tf.keras.layers.Dense(128, activation='relu'),\n",
    "    tf.keras.layers.Dense(4)\n",
    "])\n",
    "\n",
    "model_cell_type_adam.compile(optimizer=tf.keras.optimizers.Adam(1e-4),\n",
    "              loss=tf.keras.losses.CategoricalCrossentropy(from_logits=True),\n",
    "              metrics=['accuracy'])\n",
    "\n",
    "history = model_cell_type_adam.fit(task2_augmented_train_images, validation_data=task2_val_images, epochs=50, verbose=0)"
   ]
  },
  {
   "cell_type": "code",
   "execution_count": 102,
   "metadata": {
    "colab": {
     "background_save": true
    },
    "id": "vQklPVGHC2JX"
   },
   "outputs": [
    {
     "data": {
      "image/png": "[encoded data removed]",
      "text/plain": [
       "<Figure size 720x360 with 2 Axes>"
      ]
     },
     "metadata": {
      "needs_background": "light"
     },
     "output_type": "display_data"
    }
   ],
   "source": [
    "plot_learning_curve(history)"
   ]
  },
  {
   "cell_type": "code",
   "execution_count": 103,
   "metadata": {
    "colab": {
     "background_save": true
    },
    "id": "xxzR8tUgC3jJ"
   },
   "outputs": [
    {
     "name": "stdout",
     "output_type": "stream",
     "text": [
      "[[207  49  33  53]\n",
      " [  7 381  18  74]\n",
      " [ 30  49 678  39]\n",
      " [ 18  49  17 154]]\n",
      "F1 score:  0.7181829006500073\n"
     ]
    }
   ],
   "source": [
    "evaluate_model(model_cell_type_adam, task2_val_images, 32)"
   ]
  },
  {
   "cell_type": "markdown",
   "metadata": {
    "id": "DK1dQqQ-7Gl9"
   },
   "source": [
    "## Model with four VGG Blocks\n",
    "\n",
    "We investigated a model with four blocks to see whether it helps with cell-type classifications"
   ]
  },
  {
   "cell_type": "code",
   "execution_count": 104,
   "metadata": {
    "colab": {
     "background_save": true
    },
    "id": "mSfGAluIm5GM"
   },
   "outputs": [],
   "source": [
    "model = tf.keras.Sequential([\n",
    "    #VGG block 1\n",
    "    tf.keras.layers.Conv2D(27, (3, 3), activation='relu', padding='same', input_shape=(27, 27, 3)),\n",
    "    tf.keras.layers.Conv2D(27, (3, 3), activation='relu', padding='same'),\n",
    "    tf.keras.layers.MaxPooling2D((2, 2)),\n",
    "    \n",
    "    #VGG Block 2\n",
    "    tf.keras.layers.Conv2D(54, (3, 3), activation='relu', padding='same'),\n",
    "    tf.keras.layers.Conv2D(54, (3, 3), activation='relu', padding='same'),\n",
    "    tf.keras.layers.MaxPooling2D((2, 2)),\n",
    "\n",
    "    #VGG Block 3\n",
    "    tf.keras.layers.Conv2D(108, (3, 3), activation='relu', padding='same'),\n",
    "    tf.keras.layers.Conv2D(108, (3, 3), activation='relu', padding='same'),\n",
    "    tf.keras.layers.MaxPooling2D((2, 2)),\n",
    "\n",
    "    #VGG Block 4\n",
    "    tf.keras.layers.Conv2D(216, (3, 3), activation='relu', padding='same'),\n",
    "    tf.keras.layers.Conv2D(216, (3, 3), activation='relu', padding='same'),\n",
    "    tf.keras.layers.MaxPooling2D((2, 2)),\n",
    "\n",
    "    tf.keras.layers.Flatten(input_shape=(27, 27, 3)),\n",
    "    tf.keras.layers.Dense(128, activation='sigmoid'),\n",
    "    tf.keras.layers.Dense(4)\n",
    "])\n",
    "\n",
    "model.compile(optimizer=tf.keras.optimizers.Adam(1e-4),\n",
    "              loss=tf.keras.losses.CategoricalCrossentropy(from_logits=True),\n",
    "              metrics=['accuracy'])"
   ]
  },
  {
   "cell_type": "code",
   "execution_count": 105,
   "metadata": {
    "colab": {
     "background_save": true
    },
    "id": "zfwFub5rm8-P"
   },
   "outputs": [],
   "source": [
    "history = model.fit(task2_augmented_train_images, validation_data=task2_val_images, epochs=25, verbose=0)"
   ]
  },
  {
   "cell_type": "code",
   "execution_count": 106,
   "metadata": {
    "colab": {
     "background_save": true
    },
    "id": "-c1v0IfHpsaP"
   },
   "outputs": [
    {
     "data": {
      "image/png": "[encoded data removed]",
      "text/plain": [
       "<Figure size 720x360 with 2 Axes>"
      ]
     },
     "metadata": {
      "needs_background": "light"
     },
     "output_type": "display_data"
    }
   ],
   "source": [
    "plot_learning_curve(history)"
   ]
  },
  {
   "cell_type": "code",
   "execution_count": 107,
   "metadata": {
    "colab": {
     "background_save": true
    },
    "id": "FwjsOqEenUiP"
   },
   "outputs": [
    {
     "name": "stdout",
     "output_type": "stream",
     "text": [
      "[[234  44  33  31]\n",
      " [ 29 394  28  29]\n",
      " [ 43  69 683   1]\n",
      " [ 42  94  28  74]]\n",
      "F1 score:  0.6687929630940996\n"
     ]
    }
   ],
   "source": [
    "evaluate_model(model, task2_val_images, 32)"
   ]
  },
  {
   "cell_type": "markdown",
   "metadata": {
    "id": "pHiYWeWkDLwE"
   },
   "source": [
    "## Investigating Extra Data for improving the CNN with Transfer Learning\n",
    "\n",
    "For the bonus task, we are required to use the extraData to improve the cell-type classification model. Since the data itself is missing cell-type classification, we cannot directly use it as our training data. But we can use the model we trained for Task 1 through Transfer Learning and investigate whether it gives a better result than using a model trained from scratch. \n",
    "\n",
    "Our current ideal model for Task 1 looks like:"
   ]
  },
  {
   "cell_type": "code",
   "execution_count": 108,
   "metadata": {
    "colab": {
     "background_save": true
    },
    "id": "LydO1i_eB-Ta"
   },
   "outputs": [
    {
     "name": "stdout",
     "output_type": "stream",
     "text": [
      "Model: \"sequential_8\"\n",
      "_________________________________________________________________\n",
      "Layer (type)                 Output Shape              Param #   \n",
      "=================================================================\n",
      "conv2d_12 (Conv2D)           (None, 27, 27, 27)        756       \n",
      "_________________________________________________________________\n",
      "conv2d_13 (Conv2D)           (None, 27, 27, 27)        6588      \n",
      "_________________________________________________________________\n",
      "max_pooling2d_6 (MaxPooling2 (None, 13, 13, 27)        0         \n",
      "_________________________________________________________________\n",
      "conv2d_14 (Conv2D)           (None, 13, 13, 54)        13176     \n",
      "_________________________________________________________________\n",
      "conv2d_15 (Conv2D)           (None, 13, 13, 54)        26298     \n",
      "_________________________________________________________________\n",
      "max_pooling2d_7 (MaxPooling2 (None, 6, 6, 54)          0         \n",
      "_________________________________________________________________\n",
      "conv2d_16 (Conv2D)           (None, 6, 6, 108)         52596     \n",
      "_________________________________________________________________\n",
      "conv2d_17 (Conv2D)           (None, 6, 6, 108)         105084    \n",
      "_________________________________________________________________\n",
      "max_pooling2d_8 (MaxPooling2 (None, 3, 3, 108)         0         \n",
      "_________________________________________________________________\n",
      "flatten_8 (Flatten)          (None, 972)               0         \n",
      "_________________________________________________________________\n",
      "dense_16 (Dense)             (None, 256)               249088    \n",
      "_________________________________________________________________\n",
      "dense_17 (Dense)             (None, 2)                 514       \n",
      "=================================================================\n",
      "Total params: 454,100\n",
      "Trainable params: 454,100\n",
      "Non-trainable params: 0\n",
      "_________________________________________________________________\n"
     ]
    }
   ],
   "source": [
    "model_VGG2_3.summary()"
   ]
  },
  {
   "cell_type": "markdown",
   "metadata": {
    "id": "QDMiSMI5JGaX"
   },
   "source": [
    "For implementing Transfer Learning, we start by removing the output layer in the model and then adding a single output layer to investgiate how the model does with essentially no training"
   ]
  },
  {
   "cell_type": "code",
   "execution_count": 109,
   "metadata": {
    "colab": {
     "background_save": true
    },
    "id": "W1uVYXCdCLSD"
   },
   "outputs": [
    {
     "data": {
      "text/plain": [
       "[<tensorflow.python.keras.layers.convolutional.Conv2D at 0x1afdcb8e490>,\n",
       " <tensorflow.python.keras.layers.convolutional.Conv2D at 0x1ae289799d0>,\n",
       " <tensorflow.python.keras.layers.pooling.MaxPooling2D at 0x1afdcb49280>,\n",
       " <tensorflow.python.keras.layers.convolutional.Conv2D at 0x1ae28979a90>,\n",
       " <tensorflow.python.keras.layers.convolutional.Conv2D at 0x1ae28979d30>,\n",
       " <tensorflow.python.keras.layers.pooling.MaxPooling2D at 0x1ae28979220>,\n",
       " <tensorflow.python.keras.layers.convolutional.Conv2D at 0x1afc278d2e0>,\n",
       " <tensorflow.python.keras.layers.convolutional.Conv2D at 0x1afc278d370>,\n",
       " <tensorflow.python.keras.layers.pooling.MaxPooling2D at 0x1afc278df40>]"
      ]
     },
     "execution_count": 109,
     "metadata": {},
     "output_type": "execute_result"
    }
   ],
   "source": [
    "model_VGG2_3.layers[:-3]"
   ]
  },
  {
   "cell_type": "markdown",
   "metadata": {
    "id": "cZsc2IEATULx"
   },
   "source": [
    "### Replacing the output layer"
   ]
  },
  {
   "cell_type": "code",
   "execution_count": 110,
   "metadata": {
    "colab": {
     "background_save": true
    },
    "id": "CI2HzW3ZCBHg"
   },
   "outputs": [],
   "source": [
    "inner_model = tf.keras.Sequential(model_VGG2_3.layers[:-1])\n",
    "inner_model.trainable = False\n",
    "\n",
    "model = tf.keras.Sequential([\n",
    "  inner_model,\n",
    "  tf.keras.layers.Dense(4)\n",
    "])"
   ]
  },
  {
   "cell_type": "code",
   "execution_count": 111,
   "metadata": {
    "colab": {
     "background_save": true
    },
    "id": "p4W2rgfbCiOh"
   },
   "outputs": [],
   "source": [
    "model.compile(optimizer=tf.keras.optimizers.Adam(1e-4),\n",
    "              loss=tf.keras.losses.CategoricalCrossentropy(from_logits=True),\n",
    "              metrics=['accuracy'])"
   ]
  },
  {
   "cell_type": "code",
   "execution_count": 112,
   "metadata": {
    "colab": {
     "background_save": true
    },
    "id": "S266VAkMCmif"
   },
   "outputs": [],
   "source": [
    "history = model.fit(task2_train_images, validation_data=task2_val_images, epochs=50, verbose=0)"
   ]
  },
  {
   "cell_type": "code",
   "execution_count": 113,
   "metadata": {
    "colab": {
     "background_save": true
    },
    "id": "201ao7YSFXLa"
   },
   "outputs": [
    {
     "data": {
      "image/png": "[encoded data removed]",
      "text/plain": [
       "<Figure size 720x360 with 2 Axes>"
      ]
     },
     "metadata": {
      "needs_background": "light"
     },
     "output_type": "display_data"
    }
   ],
   "source": [
    "plot_learning_curve(history)"
   ]
  },
  {
   "cell_type": "code",
   "execution_count": 114,
   "metadata": {
    "colab": {
     "background_save": true
    },
    "id": "S1LflkqwCgL6"
   },
   "outputs": [
    {
     "name": "stdout",
     "output_type": "stream",
     "text": [
      "[[168 118  54   2]\n",
      " [ 20 399  60   1]\n",
      " [ 19  62 715   0]\n",
      " [ 61 136  38   3]]\n",
      "F1 score:  0.525771006179986\n"
     ]
    }
   ],
   "source": [
    "evaluate_model(model, task2_val_images, 32)"
   ]
  },
  {
   "cell_type": "markdown",
   "metadata": {
    "id": "Fxj2DKjuTZjl"
   },
   "source": [
    "### Adding a fully connected layer to the model"
   ]
  },
  {
   "cell_type": "code",
   "execution_count": 115,
   "metadata": {
    "colab": {
     "background_save": true
    },
    "id": "Vru8akrlFlcD"
   },
   "outputs": [],
   "source": [
    "inner_model = tf.keras.Sequential(model_VGG2_3.layers[:-1])\n",
    "inner_model.trainable = False\n",
    "\n",
    "model = tf.keras.Sequential([\n",
    "  inner_model,\n",
    "\n",
    "  tf.keras.layers.Flatten(input_shape=(27, 27, 3)),\n",
    "  tf.keras.layers.Dense(128, activation='relu'),\n",
    "  tf.keras.layers.Dense(4)\n",
    "])"
   ]
  },
  {
   "cell_type": "code",
   "execution_count": 116,
   "metadata": {
    "id": "mF1J452MGp7S"
   },
   "outputs": [],
   "source": [
    "model.compile(optimizer=tf.keras.optimizers.Adam(1e-4),\n",
    "              loss=tf.keras.losses.CategoricalCrossentropy(from_logits=True),\n",
    "              metrics=['accuracy'])\n",
    "history = model.fit(task2_train_images, validation_data=task2_val_images, epochs=50, verbose=0)"
   ]
  },
  {
   "cell_type": "code",
   "execution_count": 117,
   "metadata": {
    "id": "00dSN0gMJwOu"
   },
   "outputs": [
    {
     "data": {
      "image/png": "[encoded data removed]",
      "text/plain": [
       "<Figure size 720x360 with 2 Axes>"
      ]
     },
     "metadata": {
      "needs_background": "light"
     },
     "output_type": "display_data"
    }
   ],
   "source": [
    "plot_learning_curve(history)"
   ]
  },
  {
   "cell_type": "code",
   "execution_count": 118,
   "metadata": {
    "id": "6Z0NNwQQG4Na"
   },
   "outputs": [
    {
     "name": "stdout",
     "output_type": "stream",
     "text": [
      "[[198  64  46  34]\n",
      " [ 23 398  45  14]\n",
      " [ 35  56 704   1]\n",
      " [ 59  99  33  47]]\n",
      "F1 score:  0.6191968100404002\n"
     ]
    }
   ],
   "source": [
    "evaluate_model(model, task2_val_images, 32)"
   ]
  },
  {
   "cell_type": "markdown",
   "metadata": {
    "id": "p2QbGa1nTfvm"
   },
   "source": [
    "### Removing the original fully connected layer"
   ]
  },
  {
   "cell_type": "code",
   "execution_count": 119,
   "metadata": {
    "id": "xyIZa1jlKi0n"
   },
   "outputs": [],
   "source": [
    "inner_model = tf.keras.Sequential(model_VGG2_3.layers[:-3])\n",
    "inner_model.trainable = False\n",
    "\n",
    "model = tf.keras.Sequential([\n",
    "  inner_model,\n",
    "\n",
    "  tf.keras.layers.Flatten(input_shape=(27, 27, 3)),\n",
    "  tf.keras.layers.Dense(128, activation='relu'),\n",
    "  tf.keras.layers.Dense(4)\n",
    "])"
   ]
  },
  {
   "cell_type": "code",
   "execution_count": 120,
   "metadata": {
    "id": "7z-ZWS7gLMXv"
   },
   "outputs": [],
   "source": [
    "model.compile(optimizer=tf.keras.optimizers.Adam(1e-4),\n",
    "              loss=tf.keras.losses.CategoricalCrossentropy(from_logits=True),\n",
    "              metrics=['accuracy'])\n",
    "history = model.fit(task2_train_images, validation_data=task2_val_images, epochs=50, verbose=0)"
   ]
  },
  {
   "cell_type": "code",
   "execution_count": 121,
   "metadata": {
    "id": "3i9eb3GLLOV5"
   },
   "outputs": [
    {
     "data": {
      "image/png": "[encoded data removed]",
      "text/plain": [
       "<Figure size 720x360 with 2 Axes>"
      ]
     },
     "metadata": {
      "needs_background": "light"
     },
     "output_type": "display_data"
    }
   ],
   "source": [
    "plot_learning_curve(history)"
   ]
  },
  {
   "cell_type": "code",
   "execution_count": 122,
   "metadata": {
    "id": "clyDjtB0LSol"
   },
   "outputs": [
    {
     "name": "stdout",
     "output_type": "stream",
     "text": [
      "[[214  41  58  29]\n",
      " [ 32 351  67  30]\n",
      " [ 32  44 710  10]\n",
      " [ 56  84  31  67]]\n",
      "F1 score:  0.636954290790913\n"
     ]
    }
   ],
   "source": [
    "evaluate_model(model, task2_val_images, 32)"
   ]
  },
  {
   "cell_type": "markdown",
   "metadata": {
    "id": "t2H4tR8BTst9"
   },
   "source": [
    "### Utilising just the first VGG Block then adding two new blocks"
   ]
  },
  {
   "cell_type": "code",
   "execution_count": 123,
   "metadata": {
    "id": "H-fguSV-McVC"
   },
   "outputs": [],
   "source": [
    "inner_model = tf.keras.Sequential(model_VGG2_3.layers[:-9])\n",
    "inner_model.trainable = False\n",
    "\n",
    "model = tf.keras.Sequential([\n",
    "  inner_model,\n",
    "\n",
    "  #VGG Block 2\n",
    "  tf.keras.layers.Conv2D(54, (3, 3), activation='relu', padding='same'),\n",
    "  tf.keras.layers.Conv2D(54, (3, 3), activation='relu', padding='same'),\n",
    "  tf.keras.layers.MaxPooling2D((2, 2)),\n",
    "\n",
    "  #VGG Block 3\n",
    "  tf.keras.layers.Conv2D(108, (3, 3), activation='relu', padding='same'),\n",
    "  tf.keras.layers.Conv2D(108, (3, 3), activation='relu', padding='same'),\n",
    "  tf.keras.layers.MaxPooling2D((2, 2)),\n",
    "\n",
    "  tf.keras.layers.Flatten(input_shape=(27, 27, 3)),\n",
    "  tf.keras.layers.Dense(128, activation='relu'),\n",
    "  tf.keras.layers.Dense(4)\n",
    "])"
   ]
  },
  {
   "cell_type": "code",
   "execution_count": 124,
   "metadata": {
    "id": "M-nSr9VUMkio"
   },
   "outputs": [],
   "source": [
    "model.compile(optimizer=tf.keras.optimizers.Adam(1e-4),\n",
    "              loss=tf.keras.losses.CategoricalCrossentropy(from_logits=True),\n",
    "              metrics=['accuracy'])\n",
    "history = model.fit(task2_train_images, validation_data=task2_val_images, epochs=50, verbose=0)"
   ]
  },
  {
   "cell_type": "code",
   "execution_count": 125,
   "metadata": {
    "id": "SQXja3wDMnti"
   },
   "outputs": [
    {
     "name": "stdout",
     "output_type": "stream",
     "text": [
      "[[215  42  49  36]\n",
      " [ 41 357  58  24]\n",
      " [ 30  39 717  10]\n",
      " [ 42  88  31  77]]\n",
      "F1 score:  0.6550242754579315\n"
     ]
    }
   ],
   "source": [
    "evaluate_model(model, task2_val_images, 32)"
   ]
  },
  {
   "cell_type": "markdown",
   "metadata": {
    "id": "rCOORReyT0g2"
   },
   "source": [
    "### Unlocking last two layers in the original model"
   ]
  },
  {
   "cell_type": "code",
   "execution_count": 126,
   "metadata": {
    "id": "EthgHLa9PEWh"
   },
   "outputs": [],
   "source": [
    "inner_model = tf.keras.Sequential(model_VGG2_3.layers[:-3])\n",
    "for layer in inner_model.layers[:-2]:\n",
    "    layer.trainable = False\n",
    "\n",
    "model = tf.keras.Sequential([\n",
    "  inner_model,\n",
    "\n",
    "  tf.keras.layers.Flatten(input_shape=(27, 27, 3)),\n",
    "  tf.keras.layers.Dense(128, activation='relu'),\n",
    "  tf.keras.layers.Dense(4)\n",
    "])"
   ]
  },
  {
   "cell_type": "code",
   "execution_count": 127,
   "metadata": {
    "id": "2bOPD5CcPPIL"
   },
   "outputs": [],
   "source": [
    "model.compile(optimizer=tf.keras.optimizers.Adam(1e-4),\n",
    "              loss=tf.keras.losses.CategoricalCrossentropy(from_logits=True),\n",
    "              metrics=['accuracy'])\n",
    "history = model.fit(task2_train_images, validation_data=task2_val_images, epochs=50, verbose=0)"
   ]
  },
  {
   "cell_type": "code",
   "execution_count": 128,
   "metadata": {
    "id": "Vs4iRttTPQRA"
   },
   "outputs": [
    {
     "data": {
      "image/png": "[encoded data removed]",
      "text/plain": [
       "<Figure size 720x360 with 2 Axes>"
      ]
     },
     "metadata": {
      "needs_background": "light"
     },
     "output_type": "display_data"
    }
   ],
   "source": [
    "plot_learning_curve(history)"
   ]
  },
  {
   "cell_type": "code",
   "execution_count": 129,
   "metadata": {
    "id": "rhABVy0iPcMg"
   },
   "outputs": [
    {
     "name": "stdout",
     "output_type": "stream",
     "text": [
      "[[243  41  44  14]\n",
      " [ 48 365  52  15]\n",
      " [ 45  59 688   4]\n",
      " [ 81 100  26  31]]\n",
      "F1 score:  0.600241465161984\n"
     ]
    }
   ],
   "source": [
    "evaluate_model(model, task2_val_images, 32)"
   ]
  },
  {
   "cell_type": "markdown",
   "metadata": {
    "id": "CM98a8SdU7Hl"
   },
   "source": [
    "## Ultimate Judgement for Task 2"
   ]
  },
  {
   "cell_type": "markdown",
   "metadata": {
    "id": "NyP6lPC5U8Rz"
   },
   "source": [
    "The models based on Transfer Learning showed improvements over the base model, but the best model was still one which was fully trained using 3 VGG Blocks and optimised using the Adam optimizer, represented by the `model_cell_type_adam` variable. "
   ]
  },
  {
   "cell_type": "code",
   "execution_count": 130,
   "metadata": {
    "id": "d-jjnRgdVRXG"
   },
   "outputs": [
    {
     "name": "stdout",
     "output_type": "stream",
     "text": [
      "[[317  66  29  84]\n",
      " [ 14 498  23  90]\n",
      " [ 46  59 841  38]\n",
      " [ 36  85  28 220]]\n",
      "F1 score:  0.7192273836304816\n"
     ]
    }
   ],
   "source": [
    "evaluate_model(model_cell_type_adam, task2_test_images, 32)"
   ]
  }
 ],
 "metadata": {
  "accelerator": "GPU",
  "colab": {
   "collapsed_sections": [],
   "name": "assignment2.ipynb",
   "provenance": [],
   "toc_visible": true
  },
  "kernelspec": {
   "display_name": "Python 3",
   "language": "python",
   "name": "python3"
  },
  "language_info": {
   "codemirror_mode": {
    "name": "ipython",
    "version": 3
   },
   "file_extension": ".py",
   "mimetype": "text/x-python",
   "name": "python",
   "nbconvert_exporter": "python",
   "pygments_lexer": "ipython3",
   "version": "3.9.5"
  }
 },
 "nbformat": 4,
 "nbformat_minor": 4
}
